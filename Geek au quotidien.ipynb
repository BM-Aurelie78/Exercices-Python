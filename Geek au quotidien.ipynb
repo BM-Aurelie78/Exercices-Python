{
 "cells": [
  {
   "cell_type": "markdown",
   "id": "f13b4d6b",
   "metadata": {},
   "source": [
    "<div style=\" background-color: RGB(200,200,10);\" >\n",
    "<h1 style=\"margin: auto; padding: 20px 0; color:#fff; text-align: center\"> Projet \"Geek au quotidien \"\n",
    "</h2>\n",
    "<h3 style=\"margin: auto; padding: 20px 0; color:#fff; text-align: center\">Partie 1: Traitement et test\n",
    "</h3>\n",
    "</div>"
   ]
  },
  {
   "cell_type": "markdown",
   "id": "bfbf26ef",
   "metadata": {},
   "source": [
    "<div style=\"background-color: RGB(200,200,20) ; \">\n",
    "<h2 style=\"margin: auto; padding: 20px; color:#fff; \"> Programmation</a> \n",
    "</div>"
   ]
  },
  {
   "cell_type": "markdown",
   "id": "c9187dc5",
   "metadata": {},
   "source": [
    "## Astuce Python : Comprendre les list comprehension"
   ]
  },
  {
   "cell_type": "markdown",
   "id": "2684e2a7",
   "metadata": {},
   "source": [
    "✨ **Conseil du jour - Programmation** ✨\\\n",
    "🔥 **Astuce Python : Comprendre les List Comprehensions** 🔥\\\n",
    "**Les list comprehensions en Python permettent de créer des listes en une seule ligne de manière élégante et efficace. Plutôt que d’utiliser une boucle for classique, tu peux simplifier ton code.**\\\n",
    "✅ **Exemple classique :**\n"
   ]
  },
  {
   "cell_type": "code",
   "execution_count": 14,
   "id": "843d0813",
   "metadata": {},
   "outputs": [
    {
     "name": "stdout",
     "output_type": "stream",
     "text": [
      "[1, 4, 9, 16, 25]\n"
     ]
    }
   ],
   "source": [
    "numbers = [1, 2, 3, 4, 5]\n",
    "squared = []\n",
    "for num in numbers:\n",
    "    squared.append(num ** 2)\n",
    "print(squared)  # [1, 4, 9, 16, 25]\n"
   ]
  },
  {
   "cell_type": "markdown",
   "id": "0a817caf",
   "metadata": {},
   "source": [
    "✅ **Version avec list comprehension :**"
   ]
  },
  {
   "cell_type": "code",
   "execution_count": 16,
   "id": "988986cd",
   "metadata": {},
   "outputs": [
    {
     "name": "stdout",
     "output_type": "stream",
     "text": [
      "[1, 4, 9, 16, 25]\n"
     ]
    }
   ],
   "source": [
    "squared = [num ** 2 for num in numbers]\n",
    "print(squared)  # [1, 4, 9, 16, 25]\n"
   ]
  },
  {
   "cell_type": "markdown",
   "id": "d05c50d6",
   "metadata": {},
   "source": [
    "📌 **Bonus : Ajouter une condition**\\\n",
    "Tu peux aussi filtrer les éléments en ajoutant une condition :\n"
   ]
  },
  {
   "cell_type": "code",
   "execution_count": 18,
   "id": "4fd0c9cc",
   "metadata": {},
   "outputs": [
    {
     "name": "stdout",
     "output_type": "stream",
     "text": [
      "[2, 4]\n"
     ]
    }
   ],
   "source": [
    "even_numbers = [num for num in numbers if num % 2 == 0]\n",
    "print(even_numbers)  # [2, 4]"
   ]
  },
  {
   "cell_type": "markdown",
   "id": "d2ccf977",
   "metadata": {},
   "source": [
    "**🛠 Petit challenge : \\\n",
    "Essaie d’écrire une list comprehension qui transforme une liste de mots en majuscules mais garde uniquement ceux qui font plus de 3 lettres !**\\\n"
   ]
  },
  {
   "cell_type": "markdown",
   "id": "c5378f01",
   "metadata": {},
   "source": [
    "## Petit challenge\n",
    "### Brouillon"
   ]
  },
  {
   "cell_type": "code",
   "execution_count": 5,
   "id": "0f1a5f30",
   "metadata": {},
   "outputs": [
    {
     "name": "stdout",
     "output_type": "stream",
     "text": [
      "['LAPIN', 'CHAUSSURE', 'FROMAGE', 'VOITURE', 'TON', 'LA', 'TA']\n"
     ]
    }
   ],
   "source": [
    "ListeMots=[\"lapin\", \"chaussure\", \"fromage\",\"voiture\", \"ton\",\"la\",\"ta\"]\n",
    "MotsMaj=map(lambda x: x.upper(), ListeMots)\n",
    "print(list(MotsMaj))"
   ]
  },
  {
   "cell_type": "code",
   "execution_count": 4,
   "id": "6912b0d8",
   "metadata": {
    "scrolled": true
   },
   "outputs": [
    {
     "name": "stdout",
     "output_type": "stream",
     "text": [
      "['lapin', 'chaussure', 'fromage', 'voiture']\n"
     ]
    }
   ],
   "source": [
    "Plus3Mots=[plus3mots for plus3mots in ListeMots if len(plus3mots)>3]\n",
    "print(Plus3Mots)"
   ]
  },
  {
   "cell_type": "code",
   "execution_count": 13,
   "id": "b0d3b2f8",
   "metadata": {},
   "outputs": [
    {
     "name": "stdout",
     "output_type": "stream",
     "text": [
      "['LAPIN', 'CHAUSSURE', 'FROMAGE', 'VOITURE']\n"
     ]
    }
   ],
   "source": [
    "ListeMots=[\"lapin\", \"chaussure\", \"fromage\",\"voiture\", \"ton\",\"la\",\"ta\"]\n",
    "\n",
    "MOTSMAJ=[plus3mots.upper() for plus3mots in ListeMots if len(plus3mots)>3]\n",
    "print(MOTSMAJ)"
   ]
  },
  {
   "cell_type": "code",
   "execution_count": null,
   "id": "e1322291",
   "metadata": {},
   "outputs": [],
   "source": []
  },
  {
   "cell_type": "markdown",
   "id": "cefa2b5e",
   "metadata": {},
   "source": [
    "<div style=\"background-color: RGB(200,200,20) ; \">\n",
    "<h2 style=\"margin: auto; padding: 20px; color:#fff; \"> Data Analyse</a> \n",
    "</div>"
   ]
  },
  {
   "cell_type": "code",
   "execution_count": null,
   "id": "d1cc881f",
   "metadata": {},
   "outputs": [],
   "source": []
  }
 ],
 "metadata": {
  "kernelspec": {
   "display_name": "Python 3 (ipykernel)",
   "language": "python",
   "name": "python3"
  },
  "language_info": {
   "codemirror_mode": {
    "name": "ipython",
    "version": 3
   },
   "file_extension": ".py",
   "mimetype": "text/x-python",
   "name": "python",
   "nbconvert_exporter": "python",
   "pygments_lexer": "ipython3",
   "version": "3.9.13"
  }
 },
 "nbformat": 4,
 "nbformat_minor": 5
}
