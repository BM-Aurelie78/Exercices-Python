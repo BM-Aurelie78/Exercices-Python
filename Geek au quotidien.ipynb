{
 "cells": [
  {
   "cell_type": "markdown",
   "id": "f13b4d6b",
   "metadata": {},
   "source": [
    "<div style=\" background-color: RGB(200,200,10);\" >\n",
    "<h1 style=\"margin: auto; padding: 20px 0; color:#fff; text-align: center\"> Projet \"Geek au quotidien \"\n",
    "</h2>\n",
    "<h3 style=\"margin: auto; padding: 20px 0; color:#fff; text-align: center\">Partie 1: Traitement et test\n",
    "</h3>\n",
    "</div>"
   ]
  },
  {
   "cell_type": "markdown",
   "id": "bfbf26ef",
   "metadata": {},
   "source": [
    "<div style=\"background-color: RGB(200,200,20) ; \">\n",
    "<h2 style=\"margin: auto; padding: 20px; color:#fff; \"> Programmation</a> \n",
    "</div>"
   ]
  },
  {
   "cell_type": "markdown",
   "id": "c9187dc5",
   "metadata": {},
   "source": [
    "## Astuce Python : Comprendre les list comprehension"
   ]
  },
  {
   "cell_type": "markdown",
   "id": "d5c42ed0",
   "metadata": {},
   "source": [
    "✨ **Conseil du jour - Programmation** ✨\\\n",
    "🔥 **Astuce Python : Comprendre les List Comprehensions** 🔥\\\n",
    "**Les list comprehensions en Python permettent de créer des listes en une seule ligne de manière élégante et efficace. Plutôt que d’utiliser une boucle for classique, tu peux simplifier ton code.**\\\n",
    "✅ **Exemple classique :**\n"
   ]
  },
  {
   "cell_type": "code",
   "execution_count": 1,
   "id": "22803919",
   "metadata": {},
   "outputs": [
    {
     "name": "stdout",
     "output_type": "stream",
     "text": [
      "[1, 4, 9, 16, 25]\n"
     ]
    }
   ],
   "source": [
    "numbers = [1, 2, 3, 4, 5]\n",
    "squared = []\n",
    "for num in numbers:\n",
    "    squared.append(num ** 2)\n",
    "print(squared)  # [1, 4, 9, 16, 25]\n"
   ]
  },
  {
   "cell_type": "markdown",
   "id": "8e4a4385",
   "metadata": {},
   "source": [
    "✅ **Version avec list comprehension :**"
   ]
  },
  {
   "cell_type": "code",
   "execution_count": 2,
   "id": "425a1194",
   "metadata": {},
   "outputs": [
    {
     "name": "stdout",
     "output_type": "stream",
     "text": [
      "[1, 4, 9, 16, 25]\n"
     ]
    }
   ],
   "source": [
    "squared = [num ** 2 for num in numbers]\n",
    "print(squared)  # [1, 4, 9, 16, 25]\n"
   ]
  },
  {
   "cell_type": "markdown",
   "id": "6da5864e",
   "metadata": {},
   "source": [
    "📌 **Bonus : Ajouter une condition**\\\n",
    "Tu peux aussi filtrer les éléments en ajoutant une condition :\n"
   ]
  },
  {
   "cell_type": "code",
   "execution_count": 3,
   "id": "6c0ddafc",
   "metadata": {},
   "outputs": [
    {
     "name": "stdout",
     "output_type": "stream",
     "text": [
      "[2, 4]\n"
     ]
    }
   ],
   "source": [
    "even_numbers = [num for num in numbers if num % 2 == 0]\n",
    "print(even_numbers)  # [2, 4]"
   ]
  },
  {
   "cell_type": "markdown",
   "id": "15457e8d",
   "metadata": {},
   "source": [
    "**🛠 Petit challenge : \\\n",
    "Essaie d’écrire une list comprehension qui transforme une liste de mots en majuscules mais garde uniquement ceux qui font plus de 3 lettres !** \\\n"
   ]
  },
  {
   "cell_type": "markdown",
   "id": "824115a4",
   "metadata": {},
   "source": [
    "## Petit challenge\n",
    "### Brouillon"
   ]
  },
  {
   "cell_type": "code",
   "execution_count": 4,
   "id": "0f1a5f30",
   "metadata": {},
   "outputs": [
    {
     "name": "stdout",
     "output_type": "stream",
     "text": [
      "['LAPIN', 'CHAUSSURE', 'FROMAGE', 'VOITURE', 'TON', 'LA', 'TA']\n"
     ]
    }
   ],
   "source": [
    "ListeMots=[\"lapin\", \"chaussure\", \"fromage\",\"voiture\", \"ton\",\"la\",\"ta\"]\n",
    "MotsMaj=map(lambda x: x.upper(), ListeMots)\n",
    "print(list(MotsMaj))"
   ]
  },
  {
   "cell_type": "code",
   "execution_count": 5,
   "id": "7172e883",
   "metadata": {
    "scrolled": true
   },
   "outputs": [
    {
     "name": "stdout",
     "output_type": "stream",
     "text": [
      "['lapin', 'chaussure', 'fromage', 'voiture']\n"
     ]
    }
   ],
   "source": [
    "Plus3Mots=[plus3mots for plus3mots in ListeMots if len(plus3mots)>3]\n",
    "print(Plus3Mots)"
   ]
  },
  {
   "cell_type": "markdown",
   "id": "4323c7db",
   "metadata": {},
   "source": [
    "### Réponse"
   ]
  },
  {
   "cell_type": "code",
   "execution_count": 6,
   "id": "c4ed98c4",
   "metadata": {},
   "outputs": [
    {
     "name": "stdout",
     "output_type": "stream",
     "text": [
      "['LAPIN', 'CHAUSSURE', 'FROMAGE', 'VOITURE']\n"
     ]
    }
   ],
   "source": [
    "ListeMots=[\"lapin\", \"chaussure\", \"fromage\",\"voiture\", \"ton\",\"la\",\"ta\"]\n",
    "\n",
    "MOTSMAJ=[plus3mots.upper() for plus3mots in ListeMots if len(plus3mots)>3]\n",
    "print(MOTSMAJ)"
   ]
  },
  {
   "cell_type": "markdown",
   "id": "998109af",
   "metadata": {},
   "source": [
    "<div style=\"background-color: RGB(200,200,20) ; \">\n",
    "<h2 style=\"margin: auto; padding: 20px; color:#fff; \"> Data Analyse</a> \n",
    "</div>"
   ]
  },
  {
   "cell_type": "markdown",
   "id": "ab57399f",
   "metadata": {},
   "source": [
    "## Astuce pour optimiser les DataFrames Pandas"
   ]
  },
  {
   "cell_type": "markdown",
   "id": "009246ac",
   "metadata": {},
   "source": [
    "✅ **1. Utiliser astype() pour réduire la mémoire**\\\n",
    "Par défaut, pandas stocke souvent les nombres sous float64, ce qui consomme plus de mémoire que nécessaire. Convertir les types peut améliorer les performances :"
   ]
  },
  {
   "cell_type": "code",
   "execution_count": 7,
   "id": "ef77cc9d",
   "metadata": {},
   "outputs": [
    {
     "name": "stdout",
     "output_type": "stream",
     "text": [
      "int32\n",
      "int32\n"
     ]
    }
   ],
   "source": [
    "import pandas as pd\n",
    "import numpy as np\n",
    "df = pd.DataFrame({'col1': np.random.randint(0, 100, 100000)})\n",
    "print(df['col1'].dtype) # int64\n",
    "df['col1'] = df['col1'].astype('int32')\n",
    "print(df['col1'].dtype) # int32 (consomme moins de mémoire)"
   ]
  },
  {
   "cell_type": "markdown",
   "id": "ce17ae12",
   "metadata": {},
   "source": [
    "✅ **2. Charger uniquement les colonnes nécessaires**\\\n",
    "Si ton fichier CSV contient beaucoup de colonnes inutiles, charge uniquement celles dont tu as besoin :"
   ]
  },
  {
   "cell_type": "markdown",
   "id": "4b9a6afc",
   "metadata": {},
   "source": [
    "**df = pd.read_csv(\"data.csv\", usecols=['col1', 'col2'])**"
   ]
  },
  {
   "cell_type": "markdown",
   "id": "2092ea17",
   "metadata": {},
   "source": [
    "✅**3. Filtrer les données efficacement**\n",
    "Au lieu d'utiliser une boucle, privilégie le filtrage vectorisé :"
   ]
  },
  {
   "cell_type": "code",
   "execution_count": 8,
   "id": "9eeda4a7",
   "metadata": {},
   "outputs": [
    {
     "data": {
      "text/html": [
       "<div>\n",
       "<style scoped>\n",
       "    .dataframe tbody tr th:only-of-type {\n",
       "        vertical-align: middle;\n",
       "    }\n",
       "\n",
       "    .dataframe tbody tr th {\n",
       "        vertical-align: top;\n",
       "    }\n",
       "\n",
       "    .dataframe thead th {\n",
       "        text-align: right;\n",
       "    }\n",
       "</style>\n",
       "<table border=\"1\" class=\"dataframe\">\n",
       "  <thead>\n",
       "    <tr style=\"text-align: right;\">\n",
       "      <th></th>\n",
       "      <th>col1</th>\n",
       "    </tr>\n",
       "  </thead>\n",
       "  <tbody>\n",
       "    <tr>\n",
       "      <th>0</th>\n",
       "      <td>79</td>\n",
       "    </tr>\n",
       "    <tr>\n",
       "      <th>2</th>\n",
       "      <td>61</td>\n",
       "    </tr>\n",
       "    <tr>\n",
       "      <th>3</th>\n",
       "      <td>64</td>\n",
       "    </tr>\n",
       "  </tbody>\n",
       "</table>\n",
       "</div>"
      ],
      "text/plain": [
       "   col1\n",
       "0    79\n",
       "2    61\n",
       "3    64"
      ]
     },
     "execution_count": 8,
     "metadata": {},
     "output_type": "execute_result"
    }
   ],
   "source": [
    "df_filtered = df[df['col1'] > 50] # Plus rapide qu'une boucle for\n",
    "df_filtered.head(3)"
   ]
  },
  {
   "cell_type": "markdown",
   "id": "438bd1f5",
   "metadata": {},
   "source": [
    "✅**4. Appliquer les transformations avec apply() de manière efficace**\\\n",
    "Évite les boucles en appliquant une fonction sur une colonne entière :"
   ]
  },
  {
   "cell_type": "code",
   "execution_count": 9,
   "id": "18ffcc92",
   "metadata": {},
   "outputs": [
    {
     "data": {
      "text/html": [
       "<div>\n",
       "<style scoped>\n",
       "    .dataframe tbody tr th:only-of-type {\n",
       "        vertical-align: middle;\n",
       "    }\n",
       "\n",
       "    .dataframe tbody tr th {\n",
       "        vertical-align: top;\n",
       "    }\n",
       "\n",
       "    .dataframe thead th {\n",
       "        text-align: right;\n",
       "    }\n",
       "</style>\n",
       "<table border=\"1\" class=\"dataframe\">\n",
       "  <thead>\n",
       "    <tr style=\"text-align: right;\">\n",
       "      <th></th>\n",
       "      <th>col1</th>\n",
       "      <th>col1_squared</th>\n",
       "    </tr>\n",
       "  </thead>\n",
       "  <tbody>\n",
       "    <tr>\n",
       "      <th>0</th>\n",
       "      <td>79</td>\n",
       "      <td>6241</td>\n",
       "    </tr>\n",
       "    <tr>\n",
       "      <th>1</th>\n",
       "      <td>49</td>\n",
       "      <td>2401</td>\n",
       "    </tr>\n",
       "    <tr>\n",
       "      <th>2</th>\n",
       "      <td>61</td>\n",
       "      <td>3721</td>\n",
       "    </tr>\n",
       "    <tr>\n",
       "      <th>3</th>\n",
       "      <td>64</td>\n",
       "      <td>4096</td>\n",
       "    </tr>\n",
       "    <tr>\n",
       "      <th>4</th>\n",
       "      <td>10</td>\n",
       "      <td>100</td>\n",
       "    </tr>\n",
       "  </tbody>\n",
       "</table>\n",
       "</div>"
      ],
      "text/plain": [
       "   col1  col1_squared\n",
       "0    79          6241\n",
       "1    49          2401\n",
       "2    61          3721\n",
       "3    64          4096\n",
       "4    10           100"
      ]
     },
     "execution_count": 9,
     "metadata": {},
     "output_type": "execute_result"
    }
   ],
   "source": [
    "df['col1_squared'] = df['col1'].apply(lambda x: x ** 2)\n",
    "df.head(5)"
   ]
  },
  {
   "cell_type": "markdown",
   "id": "48e4810a",
   "metadata": {},
   "source": [
    "🛠 **Petit challenge :**\\\n",
    "Optimisations sur un DataFrame volumineux et mesure l’impact avec df.info() avant et après les modifications."
   ]
  },
  {
   "cell_type": "markdown",
   "id": "2cb23349",
   "metadata": {},
   "source": [
    "## Petit challenge\n",
    "### Brouillon"
   ]
  },
  {
   "cell_type": "markdown",
   "id": "3c9314e9",
   "metadata": {},
   "source": [
    "### Etape 1: Réduction de la mémoire"
   ]
  },
  {
   "cell_type": "markdown",
   "id": "2080eb64",
   "metadata": {},
   "source": [
    "**<span style=\"color:blue\">Pour l'exemple j'importe le fichier xlsx \"erp\" donné par OpenClassrooms lors de ma formation Data Analyst. </span>**"
   ]
  },
  {
   "cell_type": "code",
   "execution_count": 10,
   "id": "67e201fb",
   "metadata": {
    "scrolled": false
   },
   "outputs": [
    {
     "name": "stderr",
     "output_type": "stream",
     "text": [
      "C:\\Users\\bello\\anaconda3\\lib\\site-packages\\openpyxl\\worksheet\\_read_only.py:79: UserWarning: Unknown extension is not supported and will be removed\n",
      "  for idx, row in parser.parse():\n"
     ]
    },
    {
     "data": {
      "text/html": [
       "<div>\n",
       "<style scoped>\n",
       "    .dataframe tbody tr th:only-of-type {\n",
       "        vertical-align: middle;\n",
       "    }\n",
       "\n",
       "    .dataframe tbody tr th {\n",
       "        vertical-align: top;\n",
       "    }\n",
       "\n",
       "    .dataframe thead th {\n",
       "        text-align: right;\n",
       "    }\n",
       "</style>\n",
       "<table border=\"1\" class=\"dataframe\">\n",
       "  <thead>\n",
       "    <tr style=\"text-align: right;\">\n",
       "      <th></th>\n",
       "      <th>product_id</th>\n",
       "      <th>onsale_web</th>\n",
       "      <th>price</th>\n",
       "      <th>stock_quantity</th>\n",
       "      <th>stock_status</th>\n",
       "    </tr>\n",
       "  </thead>\n",
       "  <tbody>\n",
       "    <tr>\n",
       "      <th>0</th>\n",
       "      <td>3847</td>\n",
       "      <td>1</td>\n",
       "      <td>24.2</td>\n",
       "      <td>0</td>\n",
       "      <td>outofstock</td>\n",
       "    </tr>\n",
       "    <tr>\n",
       "      <th>1</th>\n",
       "      <td>3849</td>\n",
       "      <td>1</td>\n",
       "      <td>34.3</td>\n",
       "      <td>0</td>\n",
       "      <td>outofstock</td>\n",
       "    </tr>\n",
       "    <tr>\n",
       "      <th>2</th>\n",
       "      <td>3850</td>\n",
       "      <td>1</td>\n",
       "      <td>20.8</td>\n",
       "      <td>0</td>\n",
       "      <td>outofstock</td>\n",
       "    </tr>\n",
       "    <tr>\n",
       "      <th>3</th>\n",
       "      <td>4032</td>\n",
       "      <td>1</td>\n",
       "      <td>14.1</td>\n",
       "      <td>0</td>\n",
       "      <td>outofstock</td>\n",
       "    </tr>\n",
       "    <tr>\n",
       "      <th>4</th>\n",
       "      <td>4039</td>\n",
       "      <td>1</td>\n",
       "      <td>46.0</td>\n",
       "      <td>0</td>\n",
       "      <td>outofstock</td>\n",
       "    </tr>\n",
       "  </tbody>\n",
       "</table>\n",
       "</div>"
      ],
      "text/plain": [
       "   product_id  onsale_web  price  stock_quantity stock_status\n",
       "0        3847           1   24.2               0   outofstock\n",
       "1        3849           1   34.3               0   outofstock\n",
       "2        3850           1   20.8               0   outofstock\n",
       "3        4032           1   14.1               0   outofstock\n",
       "4        4039           1   46.0               0   outofstock"
      ]
     },
     "execution_count": 10,
     "metadata": {},
     "output_type": "execute_result"
    }
   ],
   "source": [
    "erp=pd.read_excel(\"erp-Copy1.xlsx\")\n",
    "erp.head(5)"
   ]
  },
  {
   "cell_type": "code",
   "execution_count": 11,
   "id": "4a85cb76",
   "metadata": {},
   "outputs": [
    {
     "name": "stdout",
     "output_type": "stream",
     "text": [
      "<class 'pandas.core.frame.DataFrame'>\n",
      "RangeIndex: 825 entries, 0 to 824\n",
      "Data columns (total 5 columns):\n",
      " #   Column          Non-Null Count  Dtype  \n",
      "---  ------          --------------  -----  \n",
      " 0   product_id      825 non-null    int64  \n",
      " 1   onsale_web      825 non-null    int64  \n",
      " 2   price           825 non-null    float64\n",
      " 3   stock_quantity  825 non-null    int64  \n",
      " 4   stock_status    825 non-null    object \n",
      "dtypes: float64(1), int64(3), object(1)\n",
      "memory usage: 32.4+ KB\n"
     ]
    }
   ],
   "source": [
    "#Consulter le nombre de colonnes\n",
    "#La nature des données dans chacune des colonnes\n",
    "#Le nombre de valeurs non-nulles présentes dans chacune des colonnes\n",
    "#Mémoire consommée par le dataframe\n",
    "erp.info()"
   ]
  },
  {
   "cell_type": "code",
   "execution_count": 19,
   "id": "b0a924d6",
   "metadata": {},
   "outputs": [
    {
     "name": "stderr",
     "output_type": "stream",
     "text": [
      "C:\\Users\\bello\\AppData\\Local\\Temp\\ipykernel_164852\\178861810.py:2: DeprecationWarning: `np.object` is a deprecated alias for the builtin `object`. To silence this warning, use `object` by itself. Doing this will not modify any behavior and is safe. \n",
      "Deprecated in NumPy 1.20; for more details and guidance: https://numpy.org/devdocs/release/1.20.0-notes.html#deprecations\n",
      "  erp=erp.astype({\"product_id\":np.object,\"onsale_web\":np.int32,\"stock_quantity\":np.int32,\"price\":np.float32})\n"
     ]
    }
   ],
   "source": [
    "#Changement de types \n",
    "erp=erp.astype({\"product_id\":np.object,\"onsale_web\":np.int32,\"stock_quantity\":np.int32,\"price\":np.float32})"
   ]
  },
  {
   "cell_type": "code",
   "execution_count": 13,
   "id": "3c2f220d",
   "metadata": {},
   "outputs": [
    {
     "name": "stdout",
     "output_type": "stream",
     "text": [
      "<class 'pandas.core.frame.DataFrame'>\n",
      "RangeIndex: 825 entries, 0 to 824\n",
      "Data columns (total 5 columns):\n",
      " #   Column          Non-Null Count  Dtype  \n",
      "---  ------          --------------  -----  \n",
      " 0   product_id      825 non-null    object \n",
      " 1   onsale_web      825 non-null    int32  \n",
      " 2   price           825 non-null    float32\n",
      " 3   stock_quantity  825 non-null    int32  \n",
      " 4   stock_status    825 non-null    object \n",
      "dtypes: float32(1), int32(2), object(2)\n",
      "memory usage: 22.7+ KB\n"
     ]
    }
   ],
   "source": [
    "#Vérifier si la mémoire consommée par le dataframe a bien diminué\n",
    "erp.info()"
   ]
  },
  {
   "cell_type": "markdown",
   "id": "b28d627c",
   "metadata": {},
   "source": [
    "**<span style=\"color:blue\">La mémoire du fichier dataframe passse de 32.4kB à 22.7kB La mémoire est optimisée avec succès😊👌</span>**"
   ]
  },
  {
   "cell_type": "code",
   "execution_count": null,
   "id": "a2dd5eff",
   "metadata": {},
   "outputs": [],
   "source": []
  }
 ],
 "metadata": {
  "kernelspec": {
   "display_name": "Python 3 (ipykernel)",
   "language": "python",
   "name": "python3"
  },
  "language_info": {
   "codemirror_mode": {
    "name": "ipython",
    "version": 3
   },
   "file_extension": ".py",
   "mimetype": "text/x-python",
   "name": "python",
   "nbconvert_exporter": "python",
   "pygments_lexer": "ipython3",
   "version": "3.9.13"
  }
 },
 "nbformat": 4,
 "nbformat_minor": 5
}
