{
 "cells": [
  {
   "cell_type": "markdown",
   "id": "cd3e7da2",
   "metadata": {},
   "source": [
    "<div style=\" background-color: RGB(300,200,10);\" >\n",
    "<h1 style=\"margin: auto; padding: 20px 0; color:#fff; text-align: center\"> Notebook exercice \n",
    "</h1>\n",
    "<h2 style=\"margin: auto; padding: 20px 0; color:#fff; text-align: center\">Programmer avec le langage Python appliqué à l'analyse des données \n",
    "</h2>\n",
    "</div>"
   ]
  },
  {
   "cell_type": "markdown",
   "id": "bc091017",
   "metadata": {},
   "source": [
    "<div style=\"background-color: RGB(300,200,20) ; \">\n",
    "    <h2 style=\"margin: auto; padding: 20px; color:#fff; \"> PARTIE I : EXERCICES </a> \n",
    "</div>"
   ]
  },
  {
   "cell_type": "markdown",
   "id": "bbcfdd31",
   "metadata": {},
   "source": [
    "## **Chapitre 1**"
   ]
  },
  {
   "cell_type": "markdown",
   "id": "24b77f77",
   "metadata": {},
   "source": [
    "  ### **Exercice d'application n°1.1**"
   ]
  },
  {
   "cell_type": "markdown",
   "id": "1ecd58d3",
   "metadata": {},
   "source": [
    "**-> Calculez 5 puissance 3**"
   ]
  },
  {
   "cell_type": "code",
   "execution_count": 1,
   "id": "21da74e0",
   "metadata": {},
   "outputs": [
    {
     "data": {
      "text/plain": [
       "125"
      ]
     },
     "execution_count": 1,
     "metadata": {},
     "output_type": "execute_result"
    }
   ],
   "source": [
    "5**3"
   ]
  },
  {
   "cell_type": "markdown",
   "id": "3ad79faf",
   "metadata": {},
   "source": [
    "**-> Ensuite soustraire 100 du résultat**"
   ]
  },
  {
   "cell_type": "code",
   "execution_count": 2,
   "id": "1c52c71c",
   "metadata": {},
   "outputs": [
    {
     "data": {
      "text/plain": [
       "25"
      ]
     },
     "execution_count": 2,
     "metadata": {},
     "output_type": "execute_result"
    }
   ],
   "source": [
    "(5**3)-100"
   ]
  },
  {
   "cell_type": "markdown",
   "id": "eb6c087b",
   "metadata": {},
   "source": [
    "**-> Et enfin divisez le résultat par 5.**"
   ]
  },
  {
   "cell_type": "code",
   "execution_count": 3,
   "id": "0736786f",
   "metadata": {},
   "outputs": [
    {
     "data": {
      "text/plain": [
       "5.0"
      ]
     },
     "execution_count": 3,
     "metadata": {},
     "output_type": "execute_result"
    }
   ],
   "source": [
    "(5**3-100)/5"
   ]
  },
  {
   "cell_type": "markdown",
   "id": "a82ec56e",
   "metadata": {},
   "source": [
    "  ### **Exercice d'application n°1.2**"
   ]
  },
  {
   "cell_type": "markdown",
   "id": "959fd37b",
   "metadata": {},
   "source": [
    "**-> Affecte 19 à la variable *z*. Quel est le type de la variable *z* ?** "
   ]
  },
  {
   "cell_type": "code",
   "execution_count": 4,
   "id": "924283cd",
   "metadata": {},
   "outputs": [
    {
     "data": {
      "text/plain": [
       "int"
      ]
     },
     "execution_count": 4,
     "metadata": {},
     "output_type": "execute_result"
    }
   ],
   "source": [
    "z=19\n",
    "type(z)"
   ]
  },
  {
   "cell_type": "markdown",
   "id": "b00107f1",
   "metadata": {},
   "source": [
    "**Affecte *z+1* à la variable *z*.**"
   ]
  },
  {
   "cell_type": "code",
   "execution_count": 5,
   "id": "b366febd",
   "metadata": {},
   "outputs": [
    {
     "name": "stdout",
     "output_type": "stream",
     "text": [
      "20\n"
     ]
    }
   ],
   "source": [
    "z=z+1\n",
    "print(z)"
   ]
  },
  {
   "cell_type": "markdown",
   "id": "05318687",
   "metadata": {},
   "source": [
    "**Affecte *z* divisé par 5 à la variable *z*.**"
   ]
  },
  {
   "cell_type": "code",
   "execution_count": 6,
   "id": "cf819bab",
   "metadata": {},
   "outputs": [
    {
     "name": "stdout",
     "output_type": "stream",
     "text": [
      "4.0\n"
     ]
    }
   ],
   "source": [
    "z = z/5\n",
    "print(z)"
   ]
  },
  {
   "cell_type": "markdown",
   "id": "e794e084",
   "metadata": {},
   "source": [
    "**Affecte *z* puissance 2 à la variable *z*.**"
   ]
  },
  {
   "cell_type": "code",
   "execution_count": 7,
   "id": "2e490d30",
   "metadata": {},
   "outputs": [
    {
     "name": "stdout",
     "output_type": "stream",
     "text": [
      "16.0\n"
     ]
    }
   ],
   "source": [
    "z=z**2\n",
    "print(z)"
   ]
  },
  {
   "cell_type": "code",
   "execution_count": 8,
   "id": "7ca7317c",
   "metadata": {},
   "outputs": [
    {
     "data": {
      "text/plain": [
       "float"
      ]
     },
     "execution_count": 8,
     "metadata": {},
     "output_type": "execute_result"
    }
   ],
   "source": [
    "type(z)"
   ]
  },
  {
   "cell_type": "markdown",
   "id": "236b1c4c",
   "metadata": {},
   "source": [
    "### **Exercice d'application 1.3**"
   ]
  },
  {
   "cell_type": "markdown",
   "id": "062e7939",
   "metadata": {},
   "source": [
    "**Affectez votre prénom à la variable *first_name***"
   ]
  },
  {
   "cell_type": "code",
   "execution_count": 9,
   "id": "d4b3689c",
   "metadata": {},
   "outputs": [],
   "source": [
    "#Prénom\n",
    "first_name='Aurélie'"
   ]
  },
  {
   "cell_type": "markdown",
   "id": "d5cb78e4",
   "metadata": {},
   "source": [
    "**Affectez votre nom à la variable *last_name***"
   ]
  },
  {
   "cell_type": "code",
   "execution_count": 10,
   "id": "3c7ec496",
   "metadata": {},
   "outputs": [],
   "source": [
    "#Nom de famille\n",
    "last_name= 'Bellony-montout'"
   ]
  },
  {
   "cell_type": "markdown",
   "id": "7d13710a",
   "metadata": {},
   "source": [
    "**Mettez à jour la variable *last_name* en mettant en toutes lettres en Majuscule. Utilisez la méthode *.upper()***"
   ]
  },
  {
   "cell_type": "code",
   "execution_count": 11,
   "id": "b7b463d7",
   "metadata": {},
   "outputs": [],
   "source": [
    "#Nom de famille à jour\n",
    "last_name=last_name.upper()"
   ]
  },
  {
   "cell_type": "markdown",
   "id": "68ecfb8a",
   "metadata": {},
   "source": [
    "**Concaténez les variables *first_name* et *last_name* et affectezz le résultat à la variable name en prenant bien soin de créer un espace entre le prénom et le nom.**"
   ]
  },
  {
   "cell_type": "code",
   "execution_count": 12,
   "id": "350e92d9",
   "metadata": {},
   "outputs": [],
   "source": [
    "name=first_name+' '+last_name"
   ]
  },
  {
   "cell_type": "markdown",
   "id": "adaa6b8b",
   "metadata": {},
   "source": [
    "**Quel est le nombre de caractère de la variable *name* ?**"
   ]
  },
  {
   "cell_type": "code",
   "execution_count": 13,
   "id": "f5f76483",
   "metadata": {},
   "outputs": [
    {
     "data": {
      "text/plain": [
       "23"
      ]
     },
     "execution_count": 13,
     "metadata": {},
     "output_type": "execute_result"
    }
   ],
   "source": [
    "len(name)"
   ]
  },
  {
   "cell_type": "markdown",
   "id": "9b783827",
   "metadata": {},
   "source": [
    "**Combien de fois y a t-il le caractère *o* dans la variable *name*? Utilisez la méthode : *.count()***"
   ]
  },
  {
   "cell_type": "code",
   "execution_count": 14,
   "id": "ea741d8b",
   "metadata": {},
   "outputs": [
    {
     "data": {
      "text/plain": [
       "3"
      ]
     },
     "execution_count": 14,
     "metadata": {},
     "output_type": "execute_result"
    }
   ],
   "source": [
    "name.count('O')"
   ]
  },
  {
   "cell_type": "markdown",
   "id": "d0cbcc12",
   "metadata": {},
   "source": [
    "**Affectez votre ville de résidence à la variable *city*.**"
   ]
  },
  {
   "cell_type": "code",
   "execution_count": 15,
   "id": "99455c40",
   "metadata": {},
   "outputs": [],
   "source": [
    "city=\"Mantes-La-Jolie\""
   ]
  },
  {
   "cell_type": "markdown",
   "id": "2f60633f",
   "metadata": {},
   "source": [
    "**Avec une seule fonction *print()*, affichez à l'écran.** "
   ]
  },
  {
   "cell_type": "code",
   "execution_count": 16,
   "id": "3f45fa53",
   "metadata": {},
   "outputs": [
    {
     "name": "stdout",
     "output_type": "stream",
     "text": [
      "Je m'apelle Aurélie BELLONY-MONTOUT \n",
      "Je vis à Mantes-La-Jolie\n"
     ]
    }
   ],
   "source": [
    "print(\"Je m'apelle\", name, \"\\nJe vis à\", city)"
   ]
  },
  {
   "cell_type": "markdown",
   "id": "cb5c8778",
   "metadata": {},
   "source": [
    "### **Exercice d'application 1.4**"
   ]
  },
  {
   "cell_type": "markdown",
   "id": "ae014a81",
   "metadata": {},
   "source": [
    "**Demandez le prénom d'utilisateur et stocker sa réponse dans la variable *first_Name*.**"
   ]
  },
  {
   "cell_type": "code",
   "execution_count": 17,
   "id": "156ce055",
   "metadata": {},
   "outputs": [
    {
     "name": "stdout",
     "output_type": "stream",
     "text": [
      "Quel est votre prénom?\n"
     ]
    },
    {
     "ename": "KeyboardInterrupt",
     "evalue": "Interrupted by user",
     "output_type": "error",
     "traceback": [
      "\u001b[1;31m---------------------------------------------------------------------------\u001b[0m",
      "\u001b[1;31mKeyboardInterrupt\u001b[0m                         Traceback (most recent call last)",
      "\u001b[1;32m~\\AppData\\Local\\Temp\\ipykernel_14232\\626497768.py\u001b[0m in \u001b[0;36m<module>\u001b[1;34m\u001b[0m\n\u001b[0;32m      1\u001b[0m \u001b[1;31m#Demander le prénom\u001b[0m\u001b[1;33m\u001b[0m\u001b[1;33m\u001b[0m\u001b[0m\n\u001b[0;32m      2\u001b[0m \u001b[0mprint\u001b[0m\u001b[1;33m(\u001b[0m\u001b[1;34m\"Quel est votre prénom?\"\u001b[0m\u001b[1;33m)\u001b[0m\u001b[1;33m\u001b[0m\u001b[1;33m\u001b[0m\u001b[0m\n\u001b[1;32m----> 3\u001b[1;33m \u001b[0mfirst_Name\u001b[0m \u001b[1;33m=\u001b[0m \u001b[0minput\u001b[0m\u001b[1;33m(\u001b[0m\u001b[1;33m)\u001b[0m\u001b[1;33m\u001b[0m\u001b[1;33m\u001b[0m\u001b[0m\n\u001b[0m",
      "\u001b[1;32m~\\anaconda3\\lib\\site-packages\\ipykernel\\kernelbase.py\u001b[0m in \u001b[0;36mraw_input\u001b[1;34m(self, prompt)\u001b[0m\n\u001b[0;32m   1175\u001b[0m                 \u001b[1;34m\"raw_input was called, but this frontend does not support input requests.\"\u001b[0m\u001b[1;33m\u001b[0m\u001b[1;33m\u001b[0m\u001b[0m\n\u001b[0;32m   1176\u001b[0m             )\n\u001b[1;32m-> 1177\u001b[1;33m         return self._input_request(\n\u001b[0m\u001b[0;32m   1178\u001b[0m             \u001b[0mstr\u001b[0m\u001b[1;33m(\u001b[0m\u001b[0mprompt\u001b[0m\u001b[1;33m)\u001b[0m\u001b[1;33m,\u001b[0m\u001b[1;33m\u001b[0m\u001b[1;33m\u001b[0m\u001b[0m\n\u001b[0;32m   1179\u001b[0m             \u001b[0mself\u001b[0m\u001b[1;33m.\u001b[0m\u001b[0m_parent_ident\u001b[0m\u001b[1;33m[\u001b[0m\u001b[1;34m\"shell\"\u001b[0m\u001b[1;33m]\u001b[0m\u001b[1;33m,\u001b[0m\u001b[1;33m\u001b[0m\u001b[1;33m\u001b[0m\u001b[0m\n",
      "\u001b[1;32m~\\anaconda3\\lib\\site-packages\\ipykernel\\kernelbase.py\u001b[0m in \u001b[0;36m_input_request\u001b[1;34m(self, prompt, ident, parent, password)\u001b[0m\n\u001b[0;32m   1217\u001b[0m             \u001b[1;32mexcept\u001b[0m \u001b[0mKeyboardInterrupt\u001b[0m\u001b[1;33m:\u001b[0m\u001b[1;33m\u001b[0m\u001b[1;33m\u001b[0m\u001b[0m\n\u001b[0;32m   1218\u001b[0m                 \u001b[1;31m# re-raise KeyboardInterrupt, to truncate traceback\u001b[0m\u001b[1;33m\u001b[0m\u001b[1;33m\u001b[0m\u001b[0m\n\u001b[1;32m-> 1219\u001b[1;33m                 \u001b[1;32mraise\u001b[0m \u001b[0mKeyboardInterrupt\u001b[0m\u001b[1;33m(\u001b[0m\u001b[1;34m\"Interrupted by user\"\u001b[0m\u001b[1;33m)\u001b[0m \u001b[1;32mfrom\u001b[0m \u001b[1;32mNone\u001b[0m\u001b[1;33m\u001b[0m\u001b[1;33m\u001b[0m\u001b[0m\n\u001b[0m\u001b[0;32m   1220\u001b[0m             \u001b[1;32mexcept\u001b[0m \u001b[0mException\u001b[0m\u001b[1;33m:\u001b[0m\u001b[1;33m\u001b[0m\u001b[1;33m\u001b[0m\u001b[0m\n\u001b[0;32m   1221\u001b[0m                 \u001b[0mself\u001b[0m\u001b[1;33m.\u001b[0m\u001b[0mlog\u001b[0m\u001b[1;33m.\u001b[0m\u001b[0mwarning\u001b[0m\u001b[1;33m(\u001b[0m\u001b[1;34m\"Invalid Message:\"\u001b[0m\u001b[1;33m,\u001b[0m \u001b[0mexc_info\u001b[0m\u001b[1;33m=\u001b[0m\u001b[1;32mTrue\u001b[0m\u001b[1;33m)\u001b[0m\u001b[1;33m\u001b[0m\u001b[1;33m\u001b[0m\u001b[0m\n",
      "\u001b[1;31mKeyboardInterrupt\u001b[0m: Interrupted by user"
     ]
    }
   ],
   "source": [
    "#Demander le prénom\n",
    "print(\"Quel est votre prénom?\")\n",
    "first_Name = input()"
   ]
  },
  {
   "cell_type": "markdown",
   "id": "4ff5667d",
   "metadata": {},
   "source": [
    "**Demander le nom de l'utilisateur et stocker sa réponse dans la variable *last_Name*.**"
   ]
  },
  {
   "cell_type": "code",
   "execution_count": null,
   "id": "13608572",
   "metadata": {},
   "outputs": [],
   "source": [
    "#Demander le prénom\n",
    "print(\"Quel est votre nom?\")\n",
    "last_Name= input()"
   ]
  },
  {
   "cell_type": "markdown",
   "id": "fc909844",
   "metadata": {},
   "source": [
    "**Avec une seule fonction print, affichez à l'écran: exemple \"Vous vous appelez Steph Ryan\"**"
   ]
  },
  {
   "cell_type": "code",
   "execution_count": null,
   "id": "13f969ec",
   "metadata": {},
   "outputs": [],
   "source": [
    "print(\"Vous vous appelez \", first_Name+\" \"+last_Name)"
   ]
  },
  {
   "cell_type": "markdown",
   "id": "efb043b5",
   "metadata": {},
   "source": [
    "**Demander l'âge de l'utilisateur et stocker sa réponse dans la variable *Age*. Exemple: 30** "
   ]
  },
  {
   "cell_type": "code",
   "execution_count": null,
   "id": "c62ae63c",
   "metadata": {},
   "outputs": [],
   "source": [
    "#Demander l'âge\n",
    "print(\"Quel âge avez-vous?\")\n",
    "Age=int(input())"
   ]
  },
  {
   "cell_type": "markdown",
   "id": "0f719ce6",
   "metadata": {},
   "source": [
    "**Avec une seule fonction \"print ()\", affichez à l'écran, Exemple: \"Vous avez 30 ans donc vous êtes né(e) en 1990.\" L'année de naissance doit concorder avec l'âge**"
   ]
  },
  {
   "cell_type": "code",
   "execution_count": null,
   "id": "0df86c32",
   "metadata": {},
   "outputs": [],
   "source": [
    "from datetime import datetime\n",
    "birth_year= datetime.now().year - Age\n",
    "print(\"Vous avez \", Age,\"ans donc vous êtes né(e) en \", birth_year )"
   ]
  },
  {
   "cell_type": "markdown",
   "id": "d359e2a1",
   "metadata": {},
   "source": [
    "### **Exercice d'application 1.5**"
   ]
  },
  {
   "cell_type": "code",
   "execution_count": null,
   "id": "68eeffbc",
   "metadata": {},
   "outputs": [],
   "source": [
    "#Variable City\n",
    "City= \"San Francisco\""
   ]
  },
  {
   "cell_type": "code",
   "execution_count": null,
   "id": "bd4bd59c",
   "metadata": {},
   "outputs": [],
   "source": [
    "#Récupérer les mots \"San\" et \"Francis\"\n",
    "print(City[0:3])\n",
    "print(City[4:11])"
   ]
  },
  {
   "cell_type": "code",
   "execution_count": null,
   "id": "ba2039c6",
   "metadata": {},
   "outputs": [],
   "source": [
    "print(City[:4])\n",
    "print(City[-4:])"
   ]
  },
  {
   "cell_type": "code",
   "execution_count": null,
   "id": "8836cd01",
   "metadata": {},
   "outputs": [],
   "source": [
    "# 4 premiers éléments et les 4 derniers éléments de San Francisco\"\n",
    "\n",
    "#Chercher la longueur du mot City\n",
    "City2=len(City)\n",
    "print(\"Voici les 4 premiers éléments\", City[:4-City2])\n",
    "print(\"Voici les 4 derniers éléments\", City[City2-4:])"
   ]
  },
  {
   "cell_type": "markdown",
   "id": "75997e34",
   "metadata": {},
   "source": [
    "## **Chapitre 2**"
   ]
  },
  {
   "cell_type": "markdown",
   "id": "6427d6db",
   "metadata": {},
   "source": [
    "### **Exercice d'application 2.1**"
   ]
  },
  {
   "cell_type": "code",
   "execution_count": null,
   "id": "30d4bece",
   "metadata": {},
   "outputs": [],
   "source": [
    "# Déclarer variable \"majeur\" et \"senior\"\n",
    "majeur=True\n",
    "senior=False\n",
    "print(\"majeur and senior:\",majeur and senior)\n",
    "print(\"majeur or senior:\", majeur or senior)\n",
    "print(\"not majeur:\", not majeur)\n",
    "print(\"not mineur:\", not senior)\n",
    "print(\"not majeur and not mineur:\", not majeur and not senior)\n",
    "print(\"not majeur or not mineur:\", not majeur or not senior)"
   ]
  },
  {
   "cell_type": "markdown",
   "id": "20bc7d2b",
   "metadata": {},
   "source": [
    "### **Exercice d'application 2.2**"
   ]
  },
  {
   "cell_type": "code",
   "execution_count": null,
   "id": "a40af06b",
   "metadata": {},
   "outputs": [],
   "source": [
    "#Demander son nom\n",
    "print(\"Quel est ton âge?\")\n",
    "age=int(input())"
   ]
  },
  {
   "cell_type": "code",
   "execution_count": null,
   "id": "94202687",
   "metadata": {},
   "outputs": [],
   "source": [
    "print(\"âge inférieur à 13:\", age<13)\n",
    "print(\"âge supérieur ou égale à 20 et si âge inférieur ou égal à 21:\", age>=20 and age<=21)\n",
    "print(\"âge inférieur à 19:\", age==19)\n",
    "print(\"âge dans l'intervalle [20,30] ou dans l'intervalle [31,40]:\", age in [20,30] or age in [31,41])"
   ]
  },
  {
   "cell_type": "code",
   "execution_count": null,
   "id": "4adae4c6",
   "metadata": {},
   "outputs": [],
   "source": [
    "#Correction\n",
    "print(age,\"inférieur à 13:\", age<13)\n",
    "print(age, \"supérieur ou égale à 20 et si âge inférieur ou égal à 21:\", age>=20 and age<=21)\n",
    "print(age, \"inférieur à 19:\", age==19)\n",
    "print(age, \"dans l'intervalle [20,30] ou dans l'intervalle [31,40]:\", (age>=20 and age<=30) or (age>=31 and age<= 40))"
   ]
  },
  {
   "cell_type": "markdown",
   "id": "2513d881",
   "metadata": {},
   "source": [
    "### **Exercice d'application 2.3**"
   ]
  },
  {
   "cell_type": "markdown",
   "id": "fda8bf2c",
   "metadata": {},
   "source": [
    "**Programme équivalent à l'exercice 2.1 avec *elif***"
   ]
  },
  {
   "cell_type": "code",
   "execution_count": null,
   "id": "61135a56",
   "metadata": {},
   "outputs": [],
   "source": [
    "#Demander son nom\n",
    "print(\"Quel est votre âge?\")\n",
    "age=int(input())"
   ]
  },
  {
   "cell_type": "code",
   "execution_count": null,
   "id": "108d8be7",
   "metadata": {},
   "outputs": [],
   "source": [
    "if age >=25:\n",
    "    print(\"Vous pouvez voter et jouer au poker :)\")\n",
    "elif age>=18:\n",
    "    print(\"Vous pouvez voter\")\n",
    "else:\n",
    "    print(\"Patientez! Vous êtes encore trop jeune.\")"
   ]
  },
  {
   "cell_type": "markdown",
   "id": "47174075",
   "metadata": {},
   "source": [
    "### **Exercice d'application 2.4**"
   ]
  },
  {
   "cell_type": "code",
   "execution_count": null,
   "id": "a6da8699",
   "metadata": {},
   "outputs": [],
   "source": [
    "#While affichant les nombres de 0 à 50 par pas de 5\n",
    "i=0\n",
    "while i<=50:\n",
    "    print(i)\n",
    "    i=i+5"
   ]
  },
  {
   "cell_type": "code",
   "execution_count": null,
   "id": "ef561bd6",
   "metadata": {},
   "outputs": [],
   "source": [
    "# Correction\n",
    "i=0\n",
    "while i<=50:\n",
    "    print(i)\n",
    "    i=i+5\n",
    "else:\n",
    "    print(\"i n'est plus inférieur ou égale à 50\")"
   ]
  },
  {
   "cell_type": "markdown",
   "id": "658c1040",
   "metadata": {},
   "source": [
    "##  Chapitre 4"
   ]
  },
  {
   "cell_type": "markdown",
   "id": "2bf8431e",
   "metadata": {},
   "source": [
    "### Exercice d'application 4.1"
   ]
  },
  {
   "cell_type": "markdown",
   "id": "993568cd",
   "metadata": {},
   "source": [
    "- **Ajoutez trois éléments de votre choix à la liste de courses**\n",
    "- **Appliquez la méthode .sort() à la liste de course**\n",
    "- **Affichez la liste de course. Constat?**"
   ]
  },
  {
   "cell_type": "code",
   "execution_count": null,
   "id": "c2245984",
   "metadata": {},
   "outputs": [],
   "source": [
    "#Liste de course\n",
    "course = [\"Lait\", \"Oeufs\", \"Pâtes\", \"Poireaux\",\"Tomates\", \"Carottes\", \"Beurre\", \"Navets\"]\n",
    "\n",
    "#Ajout de trois éléments dans la liste\n",
    "course.extend([\"Pomme\",\"Dentifrice\",\"Concombres\"])\n",
    "\n",
    "#Appliquez la méthode .sort() à liste de course\n",
    "course.sort()\n",
    "\n",
    "#Afficher la liste de course\n",
    "print(course)"
   ]
  },
  {
   "cell_type": "markdown",
   "id": "88c6dd7b",
   "metadata": {},
   "source": [
    "### Exercice d'application 4.2"
   ]
  },
  {
   "cell_type": "markdown",
   "id": "4f6c9dde",
   "metadata": {},
   "source": [
    "**Liste de dictionnaire donnant des infos sur certains grands acteurs d'holywood.**\n",
    "- **Calcul du revenu moyen des acteurs (en millions de dollars).**\n",
    "- **Afficher les informations des acteurs dont le revenu est supérieur au salaire moyen.**"
   ]
  },
  {
   "cell_type": "code",
   "execution_count": 39,
   "id": "e90c82cd",
   "metadata": {
    "scrolled": true
   },
   "outputs": [
    {
     "data": {
      "text/plain": [
       "[{'acteur': 'Dwayne Johnson',\n",
       "  'revenu': 89.4,\n",
       "  'films': ['San Andreas', 'Faster', 'No Pain No Gain']},\n",
       " {'acteur': 'Chris Hemsworth',\n",
       "  'revenu': 76.4,\n",
       "  'films': ['Vacation', 'SOS Fantômes', 'Star Trek']},\n",
       " {'acteur': 'Robert Downey Fr',\n",
       "  'revenu': 66,\n",
       "  'films': ['Iron Man', 'Le juge', 'Sherlock Holmes']},\n",
       " {'acteur': 'Akshay Kumar',\n",
       "  'revenu': 65,\n",
       "  'films': ['Kesari', 'Sooryavanshi', 'Mission Mangal']},\n",
       " {'acteur': 'Jackie Chan',\n",
       "  'revenu': 58,\n",
       "  'films': ['Karate Kids', 'Police story', 'Rush hour']}]"
      ]
     },
     "execution_count": 39,
     "metadata": {},
     "output_type": "execute_result"
    }
   ],
   "source": [
    "acteurs=[{\"acteur\":\"Dwayne Johnson\", \"revenu\":89.4, \"films\":[\"San Andreas\",\"Faster\", \"No Pain No Gain\"]},{\"acteur\":\"Chris Hemsworth\", \"revenu\":76.4,\"films\":[\"Vacation\", \"SOS Fantômes\",\"Star Trek\"]},{\"acteur\":\"Robert Downey Fr\", \"revenu\":66,\"films\":[\"Iron Man\",\"Le juge\",\"Sherlock Holmes\"]},{\"acteur\":\"Akshay Kumar\", \"revenu\":65, \"films\":[\"Kesari\",\"Sooryavanshi\",\"Mission Mangal\"]},{\"acteur\":\"Jackie Chan\", \"revenu\":58, \"films\":[\"Karate Kids\",\"Police story\",\"Rush hour\"]}]\n",
    "acteurs"
   ]
  },
  {
   "cell_type": "code",
   "execution_count": 40,
   "id": "d900c081",
   "metadata": {},
   "outputs": [],
   "source": [
    "# extraire les revenus de la liste pour les mettre dans la nouvelle liste \"revenus\"\n",
    "revenus = [revenus_acteurs[\"revenu\"] for revenus_acteurs in acteurs]\n",
    "\n",
    "import statistics\n",
    "# Calcule la moyenne des revenus\n",
    "revenu_moyen = statistics.mean(revenus) "
   ]
  },
  {
   "cell_type": "code",
   "execution_count": 36,
   "id": "d6689c51",
   "metadata": {},
   "outputs": [
    {
     "name": "stdout",
     "output_type": "stream",
     "text": [
      "Le revenu moyen des acteurs est de  70.96  millions de dollars\n"
     ]
    }
   ],
   "source": [
    "print(\"Le revenu moyen des acteurs est de \",round(revenu_moyen,2),\" millions de dollars\")"
   ]
  },
  {
   "cell_type": "markdown",
   "id": "206f0d32",
   "metadata": {},
   "source": [
    "## Chapitre 5"
   ]
  },
  {
   "cell_type": "markdown",
   "id": "b5dcd46e",
   "metadata": {},
   "source": [
    "### Exercice 5.1 :"
   ]
  },
  {
   "cell_type": "markdown",
   "id": "77702f1c",
   "metadata": {},
   "source": [
    "**Ecrire un code qui détermine si un nombre pair ou impair**"
   ]
  },
  {
   "cell_type": "code",
   "execution_count": null,
   "id": "a4e79abc",
   "metadata": {},
   "outputs": [],
   "source": [
    "user_number=int(input(\"Entrer un nombre pour déterminer si il pair ou impair:\\n\"))\n",
    "\n",
    "#Si le nombre entré modulo 2 est égal à 0 alors c'est un nombre pair\n",
    "if user_number%2==0:\n",
    "    print(\"C'est un nombre pair\")\n",
    "else: \n",
    "    print(\"C'est un nombre impair\")"
   ]
  },
  {
   "cell_type": "markdown",
   "id": "41bf8663",
   "metadata": {},
   "source": [
    "### Exercice 5.2 :"
   ]
  },
  {
   "cell_type": "markdown",
   "id": "45120f12",
   "metadata": {},
   "source": [
    "**Avec une boucle for**"
   ]
  },
  {
   "cell_type": "code",
   "execution_count": 18,
   "id": "8e722c7c",
   "metadata": {},
   "outputs": [
    {
     "name": "stdout",
     "output_type": "stream",
     "text": [
      "1 au carré est égal à: 1\n",
      "2 au carré est égal à: 4\n",
      "3 au carré est égal à: 9\n",
      "4 au carré est égal à: 16\n",
      "5 au carré est égal à: 25\n",
      "6 au carré est égal à: 36\n",
      "7 au carré est égal à: 49\n",
      "8 au carré est égal à: 64\n",
      "9 au carré est égal à: 81\n",
      "10 au carré est égal à: 100\n"
     ]
    }
   ],
   "source": [
    "for i in range(1,11):\n",
    "    j=i**2\n",
    "    print(i,\"au carré est égal à:\",j)"
   ]
  },
  {
   "cell_type": "markdown",
   "id": "43a63480",
   "metadata": {},
   "source": [
    "### Exercice 5.3:"
   ]
  },
  {
   "cell_type": "markdown",
   "id": "67d62594",
   "metadata": {},
   "source": [
    "**Etant donné deux listes (Voir cellule code ci-dessous), écrivez un code avec une boucle for qui permet d'avoir l'affichage ci-desous**"
   ]
  },
  {
   "cell_type": "code",
   "execution_count": 21,
   "id": "58363bc6",
   "metadata": {},
   "outputs": [
    {
     "name": "stdout",
     "output_type": "stream",
     "text": [
      "['Ryan', 'Maryse', 'Antoine', 'Elise', 'Stecy']\n",
      "\n",
      "\n",
      "[29, 30, 34, 36, 19]\n"
     ]
    }
   ],
   "source": [
    "people=[\"Ryan\",\"Maryse\",\"Antoine\",\"Elise\",\"Stecy\"]\n",
    "ages=[29, 30, 34, 36, 19]\n",
    "print(people)\n",
    "print(\"\\n\")\n",
    "print(ages)"
   ]
  },
  {
   "cell_type": "code",
   "execution_count": null,
   "id": "78563cbf",
   "metadata": {},
   "outputs": [],
   "source": [
    "people=[\"Ryan\",\"Maryse\",\"Antoine\",\"Elise\",\"Stecy\"]\n",
    "ages=[29, 30, 34, 36, 19]\n",
    "for i, j in zip(people,ages):\n",
    "    print(i,j)\n"
   ]
  },
  {
   "cell_type": "code",
   "execution_count": null,
   "id": "c1ab14e5",
   "metadata": {},
   "outputs": [],
   "source": [
    "# Autre solution\n",
    "people=[\"Ryan\",\"Maryse\",\"Antoine\",\"Elise\",\"Stecy\"]\n",
    "ages=[29, 30, 34, 36, 19]\n",
    "for i in range(5):\n",
    "    position=people[i]\n",
    "    print(position, ages[i])"
   ]
  },
  {
   "cell_type": "markdown",
   "id": "06a17740",
   "metadata": {},
   "source": [
    "### Exercice 5.4:"
   ]
  },
  {
   "cell_type": "markdown",
   "id": "de0d0f09",
   "metadata": {},
   "source": [
    "**Ecrivez un programme qui attribue une remise aux clients d'une boutique en ligne en fonction de la valeur de leur coupon de réduction.**"
   ]
  },
  {
   "cell_type": "code",
   "execution_count": 188,
   "id": "9a4773dc",
   "metadata": {},
   "outputs": [
    {
     "name": "stdout",
     "output_type": "stream",
     "text": [
      "[{'id': 1, 'total_panier': 200, 'coupon_code': 'F20'}, {'id': 2, 'total_panier': 150, 'coupon_code': 'P30'}, {'id': 3, 'total_panier': 100, 'coupon_code': 'P50'}, {'id': 4, 'total_panier': 110, 'coupon_code': 'F15'}]\n"
     ]
    }
   ],
   "source": [
    "clients=[\n",
    "    {\"id\":1, \"total_panier\":200, \"coupon_code\":'F20'},\n",
    "    #F20:Remise fix égale à 20$\n",
    "    {\"id\":2,\"total_panier\":150, \"coupon_code\":\"P30\"},\n",
    "    #P30:Remise égale à 30% du total dans le panier\n",
    "    {'id':3, \"total_panier\":100, \"coupon_code\":\"P50\"},\n",
    "    #P50:Remise égale à 50% du total dans le panier \n",
    "    {\"id\":4, \"total_panier\":110, \"coupon_code\":\"F15\"}\n",
    "    #F15:remise fixe égale à 15$  \n",
    "]\n",
    "print (clients)\n"
   ]
  },
  {
   "cell_type": "code",
   "execution_count": 189,
   "id": "6a5bcc65",
   "metadata": {},
   "outputs": [],
   "source": [
    "#Extraire les identifiants de la liste pours les mettre dans la nouvelle liste \"identif_clients\"\n",
    "identif_clients=[id_clients[\"id\"] for id_clients in clients]\n",
    "\n",
    "#Extraire les montants de la liste pours les mettre dans la nouvelle liste \"montant_panier\"\n",
    "montant_panier=[total_panier[\"total_panier\"] for total_panier in clients]\n",
    "#Extraire les montants de la liste pours les mettre dans la nouvelle liste \"code_coupon\"\n",
    "code_coupon= [coupon_code[\"coupon_code\"] for coupon_code in clients]\n"
   ]
  },
  {
   "cell_type": "code",
   "execution_count": 190,
   "id": "dc587291",
   "metadata": {},
   "outputs": [
    {
     "data": {
      "text/plain": [
       "[200, 150, 100, 110]"
      ]
     },
     "execution_count": 190,
     "metadata": {},
     "output_type": "execute_result"
    }
   ],
   "source": [
    "montant_panier"
   ]
  },
  {
   "cell_type": "code",
   "execution_count": 191,
   "id": "67fa25fa",
   "metadata": {},
   "outputs": [
    {
     "data": {
      "text/plain": [
       "['F20', 'P30', 'P50', 'F15']"
      ]
     },
     "execution_count": 191,
     "metadata": {},
     "output_type": "execute_result"
    }
   ],
   "source": [
    "code_coupon"
   ]
  },
  {
   "cell_type": "code",
   "execution_count": 192,
   "id": "9357dc3d",
   "metadata": {},
   "outputs": [],
   "source": [
    "for h in code_coupon:\n",
    "    if code_coupon==\"F20\":\n",
    "        remise=20\n",
    "    elif code_coupon==\"P30\":\n",
    "        remise=montant_panier*0.3\n",
    "    elif code_coupon==\"P50\":\n",
    "        remise=montant_panier*0.5\n",
    "    else:\n",
    "        remise=15\n",
    "remise_list.append(remise) "
   ]
  },
  {
   "cell_type": "code",
   "execution_count": 193,
   "id": "48475835",
   "metadata": {},
   "outputs": [
    {
     "data": {
      "text/plain": [
       "[15, 15]"
      ]
     },
     "execution_count": 193,
     "metadata": {},
     "output_type": "execute_result"
    }
   ],
   "source": [
    "remise_list"
   ]
  },
  {
   "cell_type": "code",
   "execution_count": 194,
   "id": "b5291033",
   "metadata": {},
   "outputs": [
    {
     "name": "stdout",
     "output_type": "stream",
     "text": [
      "1 200 F20 15\n",
      "2 150 P30 15\n",
      "3 100 P50 15\n",
      "4 110 F15 15\n"
     ]
    }
   ],
   "source": [
    "for i in range(len(identif_clients)):\n",
    "    print(identif_clients[i],montant_panier[i],code_coupon[i],remise)"
   ]
  },
  {
   "cell_type": "code",
   "execution_count": 195,
   "id": "9ef0f732",
   "metadata": {},
   "outputs": [],
   "source": [
    "remise_list=[]\n",
    "if code_coupon==\"F20\":\n",
    "    remise=20\n",
    "elif code_coupon==\"P30\":\n",
    "    remise=montant_panier*0.3\n",
    "elif code_coupon==\"P50\":\n",
    "    remise=montant_panier*0.5\n",
    "else:\n",
    "    remise=15\n",
    "remise_list.append(remise)"
   ]
  },
  {
   "cell_type": "code",
   "execution_count": null,
   "id": "cfb85a89",
   "metadata": {},
   "outputs": [],
   "source": []
  },
  {
   "cell_type": "markdown",
   "id": "3098ca2b",
   "metadata": {},
   "source": [
    "##### Exercice 5.5 :"
   ]
  },
  {
   "cell_type": "markdown",
   "id": "b77bcbe4",
   "metadata": {},
   "source": [
    "**Le programme qui demande à l'utilisateur d'entrer son salaire et qui lui spécifie le montant des impôts qu'il doit payer.**\n",
    "- **si son salaire est strictement inférieur à 10000 dollars, l'utilisateur ne paie aucun impôt.**\n",
    "- **si le salaire est entre 10000 et 30000 inclus, il paie 10% de son salaire comme impôts.**\n",
    "- **si le salaire est entre 30000 et 100000 inclus, il paie 25% de son salaire comme impôts.**\n",
    "- **si le salaire est plus de 100000, il paiera 40% de son salaire comme impôts**"
   ]
  },
  {
   "cell_type": "code",
   "execution_count": null,
   "id": "074f0bde",
   "metadata": {},
   "outputs": [],
   "source": [
    "def Salaire (salaire):\n",
    "    if salaire>100000:\n",
    "        impot=0.4*salaire\n",
    "        print(f\"Avec un salaire de {salaire}, vous paierez {round(impot,2)}$ d'impôt\") \n",
    "    elif 10000<=salaire<=30000:\n",
    "        impot=0.1*salaire\n",
    "        print(f\"Avec un salaire de {salaire}, vous paierez {round(impot,2)}$ d'impôt\")\n",
    "    elif 30000<=salaire<=100000:\n",
    "        impot=0.25*salaire\n",
    "        print(f\"Avec un salaire de {salaire}, vous paierez {round(impot,2)}$ d'impôt\")\n",
    "    else:\n",
    "        print(\"Vous ne paierez pas d'impôt\")      \n"
   ]
  },
  {
   "cell_type": "code",
   "execution_count": null,
   "id": "5b998372",
   "metadata": {},
   "outputs": [],
   "source": [
    "salaire=float(input(\"Entrez le montant de votre salaire pour connaitre le montant des impôts à payer\\n\"))\n",
    "Salaire(salaire)"
   ]
  },
  {
   "cell_type": "code",
   "execution_count": null,
   "id": "309cb15b",
   "metadata": {},
   "outputs": [],
   "source": [
    "# Autre solution\n",
    "salaire=float(input(\"Tapez le montant de votre salaire: \\n>>:\"))\n",
    "\n",
    "if salaire<10000:\n",
    "    print(\"Votre salaire est égale à\", salaire, \"dollars donc vous n'avez aucun impôt à payer\")    \n",
    "elif salaire>=10000 <=30000:\n",
    "    print(\"Votre salaire est égal à\", salaire, \"dollars donc le montant de vos impôts s'élève à :\",0.1*salaire,\"$\" )\n",
    "elif 30000<=salaire<=100000:\n",
    "    print(\"Votre salaire est égal à :\",0.25*salaire,\"$\")\n",
    "else:\n",
    "    print(\"Votre salaire est égal à\", salaire, \"dollars donc le montant de vos impôts s'élève à :\",0.4*salaire,\"$\") "
   ]
  },
  {
   "cell_type": "code",
   "execution_count": null,
   "id": "0ae6b74b",
   "metadata": {},
   "outputs": [],
   "source": [
    "\n",
    "    "
   ]
  },
  {
   "cell_type": "markdown",
   "id": "0162443c",
   "metadata": {},
   "source": [
    "<div style=\"background-color: RGB(300,200,20) ; \">\n",
    "<h2 style=\"margin: auto; padding: 20px; color:#fff; \"> Etape 1 - Importation des librairies et chargement des données</a> \n",
    "</div>"
   ]
  },
  {
   "cell_type": "markdown",
   "id": "7046d2fe",
   "metadata": {},
   "source": [
    "<div style=\"border: 5px solid RGB(300,200,20);\" >\n",
    "<h3 style=\"margin: auto; padding: 20px; color: RGB(300,200,20); \">1.2 - Importation des librairies </h3>\n",
    "</div>"
   ]
  },
  {
   "cell_type": "code",
   "execution_count": null,
   "id": "dc8cee4f",
   "metadata": {},
   "outputs": [],
   "source": [
    "# Importation des librairies Pandas, Matplotlib et Numpy\n",
    "import pandas as pd\n",
    "import matplotlib.pyplot as plt\n",
    "\n",
    "import plotly.express as px\n",
    "import statsmodels.api as sm\n",
    "import statsmodels.formula.api as smf\n",
    "from scipy.stats import t, shapiro\n",
    "import scipy.stats as st\n",
    "from sklearn.linear_model import LinearRegression\n",
    "from sklearn.linear_model import LogisticRegression\n",
    "from sklearn.metrics import classification_report, accuracy_score\n",
    "from datetime import datetime\n",
    "from sklearn.model_selection import train_test_split\n",
    "from sklearn.cluster import KMeans\n",
    "from sklearn.decomposition import PCA\n",
    "\n",
    "from sklearn.preprocessing import StandardScaler\n",
    "import numpy as np\n",
    "import seaborn as sns"
   ]
  },
  {
   "cell_type": "code",
   "execution_count": null,
   "id": "fd4f3332",
   "metadata": {},
   "outputs": [],
   "source": []
  },
  {
   "cell_type": "code",
   "execution_count": null,
   "id": "3e544bb6",
   "metadata": {},
   "outputs": [],
   "source": []
  },
  {
   "cell_type": "markdown",
   "id": "bf031d92",
   "metadata": {},
   "source": [
    "<div style=\"border: 5px solid RGB(300,200,0);\" >\n",
    "<h3 style=\"margin: auto; padding: 20px; color: RGB(300,200,0); \">1.2 - Chargement des fichiers CSV </h3>\n",
    "</div>"
   ]
  },
  {
   "cell_type": "code",
   "execution_count": null,
   "id": "b5421335",
   "metadata": {},
   "outputs": [],
   "source": []
  },
  {
   "cell_type": "code",
   "execution_count": null,
   "id": "a44ea021",
   "metadata": {},
   "outputs": [],
   "source": []
  },
  {
   "cell_type": "markdown",
   "id": "5ef91d5a",
   "metadata": {},
   "source": [
    "<div style=\"border: 5px solid RGB(300,200,20);\" >\n",
    "<h3 style=\"margin: auto; padding: 20px; color: RGB(300,200,20); \">1.3 - Nettoyage des données </h3>\n",
    "</div>"
   ]
  },
  {
   "cell_type": "code",
   "execution_count": null,
   "id": "6a438bf7",
   "metadata": {},
   "outputs": [],
   "source": [
    "\n"
   ]
  },
  {
   "cell_type": "code",
   "execution_count": null,
   "id": "df75b742",
   "metadata": {},
   "outputs": [],
   "source": []
  },
  {
   "cell_type": "markdown",
   "id": "1ad5c51d",
   "metadata": {},
   "source": []
  },
  {
   "cell_type": "markdown",
   "id": "484beea0",
   "metadata": {},
   "source": [
    "## **<span style=\"color:red\">a  <span>**"
   ]
  },
  {
   "cell_type": "code",
   "execution_count": null,
   "id": "718cadcf",
   "metadata": {},
   "outputs": [],
   "source": []
  },
  {
   "cell_type": "markdown",
   "id": "48d1fbde",
   "metadata": {},
   "source": [
    "<div style=\"background-color: RGB(300,200,20);\" >\n",
    "<h2 style=\"margin: auto; padding: 20px; color:#fff; \">Etape 2 - Analyse exploratoire des fichiers</h2>\n",
    "</div>"
   ]
  },
  {
   "cell_type": "code",
   "execution_count": null,
   "id": "e00dbdbf",
   "metadata": {},
   "outputs": [],
   "source": []
  },
  {
   "cell_type": "code",
   "execution_count": null,
   "id": "e614173c",
   "metadata": {},
   "outputs": [],
   "source": []
  },
  {
   "cell_type": "code",
   "execution_count": null,
   "id": "06190d67",
   "metadata": {},
   "outputs": [],
   "source": []
  },
  {
   "cell_type": "code",
   "execution_count": null,
   "id": "a0b996f5",
   "metadata": {},
   "outputs": [],
   "source": []
  },
  {
   "cell_type": "code",
   "execution_count": null,
   "id": "8d2bd1b9",
   "metadata": {},
   "outputs": [],
   "source": []
  }
 ],
 "metadata": {
  "kernelspec": {
   "display_name": "Python 3 (ipykernel)",
   "language": "python",
   "name": "python3"
  },
  "language_info": {
   "codemirror_mode": {
    "name": "ipython",
    "version": 3
   },
   "file_extension": ".py",
   "mimetype": "text/x-python",
   "name": "python",
   "nbconvert_exporter": "python",
   "pygments_lexer": "ipython3",
   "version": "3.9.13"
  }
 },
 "nbformat": 4,
 "nbformat_minor": 5
}
