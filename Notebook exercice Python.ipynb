{
 "cells": [
  {
   "cell_type": "markdown",
   "id": "cd3e7da2",
   "metadata": {},
   "source": [
    "<div style=\" background-color: RGB(300,200,10);\" >\n",
    "<h1 style=\"margin: auto; padding: 20px 0; color:#fff; text-align: center\"> Notebook exercice \n",
    "</h1>\n",
    "<h2 style=\"margin: auto; padding: 20px 0; color:#fff; text-align: center\">Python\n",
    "</h2>\n",
    "</div>"
   ]
  },
  {
   "cell_type": "markdown",
   "id": "bc091017",
   "metadata": {},
   "source": [
    "<div style=\"background-color: RGB(300,200,20) ; \">\n",
    "    <h2 style=\"margin: auto; padding: 20px; color:#fff; \"> PARTIE I : EXERCICES </a> \n",
    "</div>"
   ]
  },
  {
   "cell_type": "markdown",
   "id": "24b77f77",
   "metadata": {},
   "source": [
    "  ### **Exercice d'application n°1**"
   ]
  },
  {
   "cell_type": "markdown",
   "id": "1ecd58d3",
   "metadata": {},
   "source": [
    "**Écrivez un programme qui demande à l'utilisateur d'entrer un nombre et affiche s'il est positif ou négatif.**"
   ]
  },
  {
   "cell_type": "code",
   "execution_count": null,
   "id": "21da74e0",
   "metadata": {},
   "outputs": [],
   "source": []
  },
  {
   "cell_type": "markdown",
   "id": "a82ec56e",
   "metadata": {},
   "source": [
    "  ### **Exercice d'application n°2**"
   ]
  },
  {
   "cell_type": "markdown",
   "id": "3ad79faf",
   "metadata": {},
   "source": [
    "**Créez un programme qui demande l'âge de l'utilisateur et affiche s'il est majeur ou mineur.**"
   ]
  },
  {
   "cell_type": "code",
   "execution_count": 9,
   "id": "1c52c71c",
   "metadata": {},
   "outputs": [
    {
     "name": "stdout",
     "output_type": "stream",
     "text": [
      "Entrez votre âge\n",
      "8\n",
      "Vous êtes mineur\n"
     ]
    }
   ],
   "source": [
    "print(\"Entrez votre âge\")\n",
    "age=int(input())\n",
    "if age>=18:\n",
    "    print(\"Vous êtes majeur\")\n",
    "else: \n",
    "    print(\"Vous êtes mineur\")"
   ]
  },
  {
   "cell_type": "markdown",
   "id": "236b1c4c",
   "metadata": {},
   "source": [
    "### **Exercice d'application n°3**"
   ]
  },
  {
   "cell_type": "markdown",
   "id": "eb6c087b",
   "metadata": {},
   "source": [
    "**Écrivez un script qui demande à l'utilisateur d'entrer un nombre entre 1 et 7 et affiche le jour de la semaine correspondant.**"
   ]
  },
  {
   "cell_type": "code",
   "execution_count": 12,
   "id": "0736786f",
   "metadata": {},
   "outputs": [
    {
     "name": "stdout",
     "output_type": "stream",
     "text": [
      "Entrez un nombre entre 1 et 7\n",
      "8\n",
      "Erreur, veuillez entrer que des nombre entre 1 et 7\n"
     ]
    }
   ],
   "source": [
    "print(\"Entrez un nombre entre 1 et 7\")\n",
    "Nombre=int(input())\n",
    "if Nombre==1:\n",
    "    print(Nombre,\"est Lundi\")\n",
    "elif Nombre==2:\n",
    "    print(Nombre,\"est Mardi\")\n",
    "elif Nombre==3:\n",
    "    print(Nombre,\"est Mercredi\")\n",
    "elif Nombre==4:\n",
    "    print(Nombre, \"est Jeudi\")\n",
    "elif Nombre==5:\n",
    "    print(Nombre,\"est Vendredi\")\n",
    "elif Nombre==6:\n",
    "    print(Nombre,\"est Samedi\")\n",
    "elif Nombre==7:\n",
    "    print(Nombre, \"est Dimanche\")\n",
    "else:\n",
    "    print(\"Erreur, veuillez entrer que des nombre entre 1 et 7\")"
   ]
  },
  {
   "cell_type": "code",
   "execution_count": 11,
   "id": "c529df2f",
   "metadata": {},
   "outputs": [
    {
     "name": "stdout",
     "output_type": "stream",
     "text": [
      "Entrez un nombre entre 1 et 7 : 5\n",
      "Le jour correspondant est : Vendredi\n"
     ]
    }
   ],
   "source": [
    "#Correction\n",
    "jours = [\"Lundi\", \"Mardi\", \"Mercredi\", \"Jeudi\", \"Vendredi\", \"Samedi\", \"Dimanche\"]\n",
    "numero = int(input(\"Entrez un nombre entre 1 et 7 : \"))\n",
    "if 1 <= numero <= 7:\n",
    "    print(f\"Le jour correspondant est : {jours[numero-1]}\")\n",
    "else:\n",
    "    print(\"Nombre invalide\")"
   ]
  },
  {
   "cell_type": "markdown",
   "id": "cb5c8778",
   "metadata": {},
   "source": [
    "### **Exercice d'application 1.4**"
   ]
  },
  {
   "cell_type": "markdown",
   "id": "959fd37b",
   "metadata": {},
   "source": [
    "**Créez une boucle qui affiche les nombres de 1 à 10.** "
   ]
  },
  {
   "cell_type": "code",
   "execution_count": 17,
   "id": "0f652e85",
   "metadata": {},
   "outputs": [
    {
     "name": "stdout",
     "output_type": "stream",
     "text": [
      "1\n",
      "2\n",
      "3\n",
      "4\n",
      "5\n",
      "6\n",
      "7\n",
      "8\n",
      "9\n",
      "10\n"
     ]
    }
   ],
   "source": [
    "for i in range (1,11):\n",
    "    print(i)"
   ]
  },
  {
   "cell_type": "markdown",
   "id": "b00107f1",
   "metadata": {},
   "source": [
    "**Écrivez un programme qui calcule la somme des nombres de 1 à 100**"
   ]
  },
  {
   "cell_type": "code",
   "execution_count": 24,
   "id": "28d513be",
   "metadata": {},
   "outputs": [
    {
     "name": "stdout",
     "output_type": "stream",
     "text": [
      "La somme des nombres de 1 à 100 est de: 5050\n"
     ]
    }
   ],
   "source": [
    "#Correction\n",
    "somme= sum(range(1,101))\n",
    "print(f\"La somme des nombres de 1 à 100 est de: {somme}\")"
   ]
  },
  {
   "cell_type": "markdown",
   "id": "05318687",
   "metadata": {},
   "source": [
    "**Créez une boucle qui affiche les nombres pairs de 0 à 20.**"
   ]
  },
  {
   "cell_type": "code",
   "execution_count": 27,
   "id": "6927e26e",
   "metadata": {},
   "outputs": [
    {
     "name": "stdout",
     "output_type": "stream",
     "text": [
      "0\n",
      "2\n",
      "4\n",
      "6\n",
      "8\n",
      "10\n",
      "12\n",
      "14\n",
      "16\n",
      "18\n",
      "20\n"
     ]
    }
   ],
   "source": [
    "for j in range (0,21,2):\n",
    "    print(j)\n",
    "    "
   ]
  },
  {
   "cell_type": "markdown",
   "id": "e794e084",
   "metadata": {},
   "source": [
    "**Écrivez un programme qui demande à l'utilisateur de deviner un nombre entre 1 et 100, avec des indices \"plus haut\" ou \"plus bas\".**"
   ]
  },
  {
   "cell_type": "code",
   "execution_count": 64,
   "id": "b9c140a2",
   "metadata": {},
   "outputs": [
    {
     "name": "stdout",
     "output_type": "stream",
     "text": [
      "Deviner un nombre entre 1 et 100: 52\n",
      "Plus haut\n",
      "Deviner un nombre entre 1 et 100: 60\n",
      "Plus haut\n",
      "Deviner un nombre entre 1 et 100: 70\n",
      "Plus bas\n",
      "Deviner un nombre entre 1 et 100: 80\n",
      "Plus bas\n",
      "Deviner un nombre entre 1 et 100: 75\n",
      "Plus bas\n",
      "Deviner un nombre entre 1 et 100: 73\n",
      "Plus bas\n",
      "Deviner un nombre entre 1 et 100: 72\n",
      "Plus bas\n",
      "Deviner un nombre entre 1 et 100: 71\n",
      "Plus bas\n",
      "Deviner un nombre entre 1 et 100: 70\n",
      "Plus bas\n",
      "Deviner un nombre entre 1 et 100: 65\n",
      "Plus bas\n",
      "Deviner un nombre entre 1 et 100: 63\n",
      "Plus haut\n",
      "Deviner un nombre entre 1 et 100: 64\n",
      "Bingo,vous êtes trop fort\n"
     ]
    }
   ],
   "source": [
    "#Ma solution\n",
    "import random\n",
    "Nbre_mystere=random.randint(1,101)\n",
    "while Nbre!=Nbre_mystere:\n",
    "    Nbre=int(input(\"Deviner un nombre entre 1 et 100: \"))\n",
    "    if Nbre<Nbre_mystere:\n",
    "        print(\"Plus haut\")\n",
    "    elif Nbre>Nbre_mystere:\n",
    "        print(\"Plus bas\")\n",
    "    else:\n",
    "        print(\"Bingo,vous êtes trop fort\")\n",
    "        break\n",
    "    "
   ]
  },
  {
   "cell_type": "code",
   "execution_count": 77,
   "id": "5f7769c4",
   "metadata": {},
   "outputs": [
    {
     "name": "stdout",
     "output_type": "stream",
     "text": [
      "Deviner un nombre entre 1 et 100: 5\n",
      "Plus haut\n",
      "Deviner un nombre entre 1 et 100: 20\n",
      "Plus haut\n",
      "Deviner un nombre entre 1 et 100: 40\n",
      "Plus bas\n",
      "Deviner un nombre entre 1 et 100: 60\n",
      "Plus bas\n",
      "Deviner un nombre entre 1 et 100: 30\n",
      "Bingo,vous êtes trop fort\n"
     ]
    }
   ],
   "source": [
    "# Correction de ma solution (avec ChatGPT)\n",
    "\n",
    "#Import random\n",
    "import random\n",
    "Nbre_mystere=random.randint(1,101)\n",
    "\n",
    "#Initialisation\n",
    "Nbre=0\n",
    "\n",
    "while Nbre!=Nbre_mystere:\n",
    "    try: \n",
    "        Nbre=int(input(\"Deviner un nombre entre 1 et 100: \"))\n",
    "        if Nbre<Nbre_mystere:\n",
    "            print(\"Plus haut\")\n",
    "        elif Nbre>Nbre_mystere:\n",
    "            print(\"Plus bas\")\n",
    "        else:\n",
    "            print(\"Bingo,vous êtes trop fort\")\n",
    "            break\n",
    "    except ValueError:\n",
    "        print(\"Veuillez entrer un nombre valide.\")"
   ]
  },
  {
   "cell_type": "code",
   "execution_count": 81,
   "id": "b366febd",
   "metadata": {},
   "outputs": [
    {
     "name": "stdout",
     "output_type": "stream",
     "text": [
      "Deviner un nombre entre 1 et 100: 80\n",
      "Plus bas\n",
      "Deviner un nombre entre 1 et 100: 60\n",
      "Plus bas\n",
      "Deviner un nombre entre 1 et 100: 30\n",
      "Plus haut\n",
      "Deviner un nombre entre 1 et 100: 40\n",
      "Plus haut\n",
      "Deviner un nombre entre 1 et 100: 50\n",
      "Plus haut\n",
      "Deviner un nombre entre 1 et 100: 55\n",
      "Plus bas\n",
      "Deviner un nombre entre 1 et 100: 53\n",
      "Plus haut\n",
      "Deviner un nombre entre 1 et 100: 54\n",
      "Bingo, vous avez réussi après 8 tentatives\n"
     ]
    }
   ],
   "source": [
    "# Correction de ma solution et amélioration (avec ChatGPT)\n",
    "\n",
    "#Import random\n",
    "import random\n",
    "Nbre_mystere=random.randint(1,101)\n",
    "\n",
    "#Initialisation\n",
    "Nbre=0\n",
    "tentative=0\n",
    "while Nbre!=Nbre_mystere:\n",
    "    try: \n",
    "        Nbre=int(input(\"Deviner un nombre entre 1 et 100: \"))\n",
    "        tentative+=1\n",
    "        if Nbre<Nbre_mystere:\n",
    "            print(\"Plus haut\")\n",
    "        elif Nbre>Nbre_mystere:\n",
    "            print(\"Plus bas\")\n",
    "        else:\n",
    "            print(f\"Bingo, vous avez réussi après {tentative} tentatives\")\n",
    "            break\n",
    "    except ValueError:\n",
    "        print(\"Veuillez entrer un nombre valide.\")"
   ]
  },
  {
   "cell_type": "code",
   "execution_count": 82,
   "id": "3c73c4d6",
   "metadata": {},
   "outputs": [
    {
     "name": "stdout",
     "output_type": "stream",
     "text": [
      "Deviner un nombre entre 1 et 100: 58\n",
      "Plus bas\n",
      "Deviner un nombre entre 1 et 100: 40\n",
      "Plus bas\n",
      "Deviner un nombre entre 1 et 100: 25\n",
      "Plus bas\n",
      "Deviner un nombre entre 1 et 100: 15\n",
      "Bingo, vous êtes trop fort, vous avez réussi après 4 tentatives\n"
     ]
    }
   ],
   "source": [
    "\n",
    "#Import random\n",
    "import random\n",
    "Nbre_mystere=random.randint(1,101)\n",
    "\n",
    "#Initialisation\n",
    "Nbre=0\n",
    "tentative=0\n",
    "while Nbre!=Nbre_mystere:\n",
    "    try: \n",
    "        Nbre=int(input(\"Deviner un nombre entre 1 et 100: \"))\n",
    "        tentative+=1\n",
    "        if Nbre<Nbre_mystere:\n",
    "            print(\"Plus haut\")\n",
    "        elif Nbre>Nbre_mystere:\n",
    "            print(\"Plus bas\")\n",
    "        else:\n",
    "            if tentative<=5:\n",
    "                print(f\"Bingo, vous êtes trop fort, vous avez réussi après {tentative} tentatives\")\n",
    "            elif 5>tentative<=10:\n",
    "                print(f\"Bingo, pas mal, vous avez réussi après {tentative} tentatives\")\n",
    "            else:\n",
    "                print(f\"Bingo, vous avez réussi après {tentative} tentatives\")\n",
    "            break\n",
    "    except ValueError:\n",
    "        print(\"Veuillez entrer un nombre valide.\")"
   ]
  },
  {
   "cell_type": "code",
   "execution_count": 56,
   "id": "cf819bab",
   "metadata": {},
   "outputs": [
    {
     "name": "stdout",
     "output_type": "stream",
     "text": [
      "Devinez le nombre (entre 1 et 100) : 50\n",
      "Plus bas!\n",
      "Devinez le nombre (entre 1 et 100) : 12\n",
      "Plus bas!\n",
      "Devinez le nombre (entre 1 et 100) : 8\n",
      "Bravo! Vous avez trouvé le nombre 8!\n"
     ]
    }
   ],
   "source": [
    "#Autre solution\n",
    "import random\n",
    "\n",
    "nombre_secret = random.randint(1, 100)\n",
    "devine = 0\n",
    "\n",
    "while devine != nombre_secret:\n",
    "    devine = int(input(\"Devinez le nombre (entre 1 et 100) : \"))\n",
    "    if devine < nombre_secret:\n",
    "        print(\"Plus haut!\")\n",
    "    elif devine > nombre_secret:\n",
    "        print(\"Plus bas!\")\n",
    "\n",
    "print(f\"Bravo! Vous avez trouvé le nombre {nombre_secret}!\")\n",
    "    "
   ]
  },
  {
   "cell_type": "markdown",
   "id": "062e7939",
   "metadata": {},
   "source": [
    "**Créez un programme qui affiche la table de multiplication d'un nombre entré par l'utilisateur.***"
   ]
  },
  {
   "cell_type": "code",
   "execution_count": null,
   "id": "d4b3689c",
   "metadata": {},
   "outputs": [],
   "source": []
  },
  {
   "cell_type": "code",
   "execution_count": 44,
   "id": "2e490d30",
   "metadata": {},
   "outputs": [
    {
     "name": "stdout",
     "output_type": "stream",
     "text": [
      "16.0\n"
     ]
    }
   ],
   "source": []
  },
  {
   "cell_type": "code",
   "execution_count": 45,
   "id": "7ca7317c",
   "metadata": {},
   "outputs": [
    {
     "data": {
      "text/plain": [
       "float"
      ]
     },
     "execution_count": 45,
     "metadata": {},
     "output_type": "execute_result"
    }
   ],
   "source": []
  },
  {
   "cell_type": "markdown",
   "id": "d5cb78e4",
   "metadata": {},
   "source": [
    "**Affectez votre nom à la variable *last_name***"
   ]
  },
  {
   "cell_type": "code",
   "execution_count": null,
   "id": "3c7ec496",
   "metadata": {},
   "outputs": [],
   "source": []
  },
  {
   "cell_type": "markdown",
   "id": "7d13710a",
   "metadata": {},
   "source": [
    "**Mettez à jour la variable *last_name* en mettant en toutes lettres en Majuscule. Utilisez la méthode *.upper()***"
   ]
  },
  {
   "cell_type": "code",
   "execution_count": null,
   "id": "b7b463d7",
   "metadata": {},
   "outputs": [],
   "source": []
  },
  {
   "cell_type": "markdown",
   "id": "68ecfb8a",
   "metadata": {},
   "source": [
    "**Concaténez les variables *first_name* et *last_name* et affectezz le résultat à la variable name en prenant bien soin de créer un espace entre le prénom et le nom.**"
   ]
  },
  {
   "cell_type": "code",
   "execution_count": null,
   "id": "350e92d9",
   "metadata": {},
   "outputs": [],
   "source": []
  },
  {
   "cell_type": "markdown",
   "id": "adaa6b8b",
   "metadata": {},
   "source": [
    "**Quel est le nombre de caractère de la variable *name* ?**"
   ]
  },
  {
   "cell_type": "code",
   "execution_count": 78,
   "id": "f5f76483",
   "metadata": {},
   "outputs": [
    {
     "data": {
      "text/plain": [
       "23"
      ]
     },
     "execution_count": 78,
     "metadata": {},
     "output_type": "execute_result"
    }
   ],
   "source": []
  },
  {
   "cell_type": "markdown",
   "id": "9b783827",
   "metadata": {},
   "source": [
    "**Combien de fois y a t-il le caractère *o* dans la variable *name*? Utilisez la méthode : *.count()***"
   ]
  },
  {
   "cell_type": "code",
   "execution_count": 79,
   "id": "ea741d8b",
   "metadata": {},
   "outputs": [
    {
     "data": {
      "text/plain": [
       "3"
      ]
     },
     "execution_count": 79,
     "metadata": {},
     "output_type": "execute_result"
    }
   ],
   "source": []
  },
  {
   "cell_type": "markdown",
   "id": "d0cbcc12",
   "metadata": {},
   "source": [
    "**Affectez votre ville de résidence à la variable *city*.**"
   ]
  },
  {
   "cell_type": "code",
   "execution_count": 80,
   "id": "99455c40",
   "metadata": {},
   "outputs": [],
   "source": []
  },
  {
   "cell_type": "markdown",
   "id": "2f60633f",
   "metadata": {},
   "source": [
    "**Avec une seule fonction *print()*, affichez à l'écran.** "
   ]
  },
  {
   "cell_type": "code",
   "execution_count": 91,
   "id": "3f45fa53",
   "metadata": {},
   "outputs": [
    {
     "name": "stdout",
     "output_type": "stream",
     "text": [
      "Je m'apelle Aurélie BELLONY-MONTOUT \n",
      "Je vis à Mantes-La-Jolie\n"
     ]
    }
   ],
   "source": []
  },
  {
   "cell_type": "markdown",
   "id": "ae014a81",
   "metadata": {},
   "source": [
    "**Demandez le prénom d'utilisateur et stocker sa réponse dans la variable *first_Name*.**"
   ]
  },
  {
   "cell_type": "code",
   "execution_count": 95,
   "id": "156ce055",
   "metadata": {},
   "outputs": [
    {
     "name": "stdout",
     "output_type": "stream",
     "text": [
      "Quel est votre prénom?\n",
      "Aurélie\n"
     ]
    }
   ],
   "source": [
    "#Demander le prénom\n",
    "print(\"Quel est votre prénom?\")\n",
    "first_Name = input()"
   ]
  },
  {
   "cell_type": "markdown",
   "id": "4ff5667d",
   "metadata": {},
   "source": [
    "**Demander le nom de l'utilisateur et stocker sa réponse dans la variable *last_Name*.**"
   ]
  },
  {
   "cell_type": "code",
   "execution_count": 96,
   "id": "13608572",
   "metadata": {},
   "outputs": [
    {
     "name": "stdout",
     "output_type": "stream",
     "text": [
      "Quel est votre nom?\n",
      "BELLONY-MONTOUT\n"
     ]
    }
   ],
   "source": [
    "#Demander le prénom\n",
    "print(\"Quel est votre nom?\")\n",
    "last_Name= input()"
   ]
  },
  {
   "cell_type": "markdown",
   "id": "fc909844",
   "metadata": {},
   "source": [
    "**Avec une seule fonction print, affichez à l'écran: exemple \"Vous vous appelez Steph Ryan\"**"
   ]
  },
  {
   "cell_type": "code",
   "execution_count": 97,
   "id": "13f969ec",
   "metadata": {},
   "outputs": [
    {
     "name": "stdout",
     "output_type": "stream",
     "text": [
      "Vous vous appelez  Aurélie BELLONY-MONTOUT\n"
     ]
    }
   ],
   "source": [
    "print(\"Vous vous appelez \", first_Name+\" \"+last_Name)"
   ]
  },
  {
   "cell_type": "markdown",
   "id": "efb043b5",
   "metadata": {},
   "source": [
    "**Demander l'âge de l'utilisateur et stocker sa réponse dans la variable *Age*. Exemple: 30** "
   ]
  },
  {
   "cell_type": "code",
   "execution_count": 99,
   "id": "c62ae63c",
   "metadata": {},
   "outputs": [
    {
     "name": "stdout",
     "output_type": "stream",
     "text": [
      "Quel âge avez-vous?\n",
      "31\n"
     ]
    }
   ],
   "source": [
    "#Demander l'âge\n",
    "print(\"Quel âge avez-vous?\")\n",
    "Age=int(input())"
   ]
  },
  {
   "cell_type": "markdown",
   "id": "0f719ce6",
   "metadata": {},
   "source": [
    "**Avec une seule fonction \"print ()\", affichez à l'écran, Exemple: \"Vous avez 30 ans donc vous êtes né(e) en 1990.\" L'année de naissance doit concorder avec l'âge**"
   ]
  },
  {
   "cell_type": "code",
   "execution_count": 100,
   "id": "0df86c32",
   "metadata": {},
   "outputs": [
    {
     "name": "stdout",
     "output_type": "stream",
     "text": [
      "Vous avez  31 ans donc vous êtes né(e) en  1993\n"
     ]
    }
   ],
   "source": [
    "from datetime import datetime\n",
    "birth_year= datetime.now().year - Age\n",
    "print(\"Vous avez \", Age,\"ans donc vous êtes né(e) en \", birth_year )"
   ]
  },
  {
   "cell_type": "markdown",
   "id": "d359e2a1",
   "metadata": {},
   "source": [
    "### **Exercice d'application 1.5**"
   ]
  },
  {
   "cell_type": "code",
   "execution_count": 153,
   "id": "68eeffbc",
   "metadata": {},
   "outputs": [],
   "source": [
    "#Variable City\n",
    "City= \"San Francisco\""
   ]
  },
  {
   "cell_type": "code",
   "execution_count": 103,
   "id": "bd4bd59c",
   "metadata": {},
   "outputs": [
    {
     "name": "stdout",
     "output_type": "stream",
     "text": [
      "San\n",
      "Francis\n"
     ]
    }
   ],
   "source": [
    "#Récupérer les mots \"San\" et \"Francis\"\n",
    "print(City[0:3])\n",
    "print(City[4:11])"
   ]
  },
  {
   "cell_type": "code",
   "execution_count": 154,
   "id": "ba2039c6",
   "metadata": {},
   "outputs": [
    {
     "name": "stdout",
     "output_type": "stream",
     "text": [
      "San \n",
      "isco\n"
     ]
    }
   ],
   "source": [
    "print(City[:4])\n",
    "print(City[-4:])"
   ]
  },
  {
   "cell_type": "code",
   "execution_count": 155,
   "id": "8836cd01",
   "metadata": {},
   "outputs": [
    {
     "name": "stdout",
     "output_type": "stream",
     "text": [
      "Voici les 4 premiers éléments San \n",
      "Voici les 4 derniers éléments isco\n"
     ]
    }
   ],
   "source": [
    "# 4 premiers éléments et les 4 derniers éléments de San Francisco\"\n",
    "\n",
    "#Chercher la longueur du mot City\n",
    "City2=len(City)\n",
    "print(\"Voici les 4 premiers éléments\", City[:4-City2])\n",
    "print(\"Voici les 4 derniers éléments\", City[City2-4:])"
   ]
  },
  {
   "cell_type": "markdown",
   "id": "75997e34",
   "metadata": {},
   "source": [
    "## **Chapitre 2**"
   ]
  },
  {
   "cell_type": "markdown",
   "id": "6427d6db",
   "metadata": {},
   "source": [
    "### **Exercice d'application 2.1**"
   ]
  },
  {
   "cell_type": "code",
   "execution_count": 126,
   "id": "30d4bece",
   "metadata": {},
   "outputs": [
    {
     "name": "stdout",
     "output_type": "stream",
     "text": [
      "majeur and senior: False\n",
      "majeur or senior: True\n",
      "not majeur: False\n",
      "not mineur: True\n",
      "not majeur and not mineur: False\n",
      "not majeur or not mineur: True\n"
     ]
    }
   ],
   "source": [
    "# Déclarer variable \"majeur\" et \"senior\"\n",
    "majeur=True\n",
    "senior=False\n",
    "print(\"majeur and senior:\",majeur and senior)\n",
    "print(\"majeur or senior:\", majeur or senior)\n",
    "print(\"not majeur:\", not majeur)\n",
    "print(\"not mineur:\", not senior)\n",
    "print(\"not majeur and not mineur:\", not majeur and not senior)\n",
    "print(\"not majeur or not mineur:\", not majeur or not senior)"
   ]
  },
  {
   "cell_type": "markdown",
   "id": "20bc7d2b",
   "metadata": {},
   "source": [
    "### **Exercice d'application 2.2**"
   ]
  },
  {
   "cell_type": "code",
   "execution_count": 157,
   "id": "a40af06b",
   "metadata": {},
   "outputs": [
    {
     "name": "stdout",
     "output_type": "stream",
     "text": [
      "Quel est ton âge?\n",
      "31\n"
     ]
    }
   ],
   "source": [
    "#Demander son nom\n",
    "print(\"Quel est ton âge?\")\n",
    "age=int(input())"
   ]
  },
  {
   "cell_type": "code",
   "execution_count": 143,
   "id": "94202687",
   "metadata": {},
   "outputs": [
    {
     "name": "stdout",
     "output_type": "stream",
     "text": [
      "âge inférieur à 13: False\n",
      "âge supérieur ou égale à 20 et si âge inférieur ou égal à 21: False\n",
      "âge inférieur à 19: False\n",
      "âge dans l'intervalle [20,30] ou dans l'intervalle [31,40]: True\n"
     ]
    }
   ],
   "source": [
    "print(\"âge inférieur à 13:\", age<13)\n",
    "print(\"âge supérieur ou égale à 20 et si âge inférieur ou égal à 21:\", age>=20 and age<=21)\n",
    "print(\"âge inférieur à 19:\", age==19)\n",
    "print(\"âge dans l'intervalle [20,30] ou dans l'intervalle [31,40]:\", age in [20,30] or age in [31,41])"
   ]
  },
  {
   "cell_type": "code",
   "execution_count": 162,
   "id": "4adae4c6",
   "metadata": {},
   "outputs": [
    {
     "name": "stdout",
     "output_type": "stream",
     "text": [
      "31 inférieur à 13: False\n",
      "31 supérieur ou égale à 20 et si âge inférieur ou égal à 21: False\n",
      "31 inférieur à 19: False\n",
      "31 dans l'intervalle [20,30] ou dans l'intervalle [31,40]: True\n"
     ]
    }
   ],
   "source": [
    "#Correction\n",
    "print(age,\"inférieur à 13:\", age<13)\n",
    "print(age, \"supérieur ou égale à 20 et si âge inférieur ou égal à 21:\", age>=20 and age<=21)\n",
    "print(age, \"inférieur à 19:\", age==19)\n",
    "print(age, \"dans l'intervalle [20,30] ou dans l'intervalle [31,40]:\", (age>=20 and age<=30) or (age>=31 and age<= 40))"
   ]
  },
  {
   "cell_type": "markdown",
   "id": "2513d881",
   "metadata": {},
   "source": [
    "### **Exercice d'application 2.3**"
   ]
  },
  {
   "cell_type": "markdown",
   "id": "fda8bf2c",
   "metadata": {},
   "source": [
    "**Programme équivalent à l'exercice 2.1 avec *elif***"
   ]
  },
  {
   "cell_type": "code",
   "execution_count": 182,
   "id": "61135a56",
   "metadata": {},
   "outputs": [
    {
     "name": "stdout",
     "output_type": "stream",
     "text": [
      "Quel est votre âge?\n",
      "31\n"
     ]
    }
   ],
   "source": [
    "#Demander son nom\n",
    "print(\"Quel est votre âge?\")\n",
    "age=int(input())"
   ]
  },
  {
   "cell_type": "code",
   "execution_count": 184,
   "id": "108d8be7",
   "metadata": {},
   "outputs": [
    {
     "name": "stdout",
     "output_type": "stream",
     "text": [
      "Vous pouvez voter et jouer au poker :)\n"
     ]
    }
   ],
   "source": [
    "if age >=25:\n",
    "    print(\"Vous pouvez voter et jouer au poker :)\")\n",
    "elif age>=18:\n",
    "    print(\"Vous pouvez voter\")\n",
    "else:\n",
    "    print(\"Patientez! Vous êtes encore trop jeune.\")"
   ]
  },
  {
   "cell_type": "markdown",
   "id": "47174075",
   "metadata": {},
   "source": [
    "### **Exercice d'application 2.4**"
   ]
  },
  {
   "cell_type": "code",
   "execution_count": null,
   "id": "a6da8699",
   "metadata": {},
   "outputs": [],
   "source": [
    "#While affichant les nombres de 0 à 50 par pas de 5\n",
    "i=0\n",
    "while i<=50:\n",
    "    print(i)\n",
    "    i=i+5"
   ]
  },
  {
   "cell_type": "code",
   "execution_count": null,
   "id": "ef561bd6",
   "metadata": {},
   "outputs": [],
   "source": [
    "# Correction\n",
    "i=0\n",
    "while i<=50:\n",
    "    print(i)\n",
    "    i=i+5\n",
    "else:\n",
    "    print(\"i n'est plus inférieur ou égale à 50\")"
   ]
  },
  {
   "cell_type": "markdown",
   "id": "0a060789",
   "metadata": {},
   "source": [
    "## **Chapitre 4**"
   ]
  },
  {
   "cell_type": "markdown",
   "id": "827ef585",
   "metadata": {
    "scrolled": true
   },
   "source": [
    "### **Exercice 4.1**"
   ]
  },
  {
   "cell_type": "code",
   "execution_count": null,
   "id": "6ae9d565",
   "metadata": {},
   "outputs": [],
   "source": [
    "\n"
   ]
  },
  {
   "cell_type": "code",
   "execution_count": null,
   "id": "3057600e",
   "metadata": {},
   "outputs": [],
   "source": []
  },
  {
   "cell_type": "code",
   "execution_count": null,
   "id": "fa7347d6",
   "metadata": {},
   "outputs": [],
   "source": []
  },
  {
   "cell_type": "markdown",
   "id": "0162443c",
   "metadata": {},
   "source": [
    "<div style=\"background-color: RGB(300,200,20) ; \">\n",
    "<h2 style=\"margin: auto; padding: 20px; color:#fff; \"> Etape 1 - Importation des librairies et chargement des données</a> \n",
    "</div>"
   ]
  },
  {
   "cell_type": "markdown",
   "id": "7046d2fe",
   "metadata": {},
   "source": [
    "<div style=\"border: 5px solid RGB(300,200,20);\" >\n",
    "<h3 style=\"margin: auto; padding: 20px; color: RGB(300,200,20); \">1.2 - Importation des librairies </h3>\n",
    "</div>"
   ]
  },
  {
   "cell_type": "code",
   "execution_count": 2,
   "id": "dc8cee4f",
   "metadata": {},
   "outputs": [],
   "source": [
    "# Importation des librairies Pandas, Matplotlib et Numpy\n",
    "import pandas as pd\n",
    "import matplotlib.pyplot as plt\n",
    "\n",
    "import plotly.express as px\n",
    "import statsmodels.api as sm\n",
    "import statsmodels.formula.api as smf\n",
    "from scipy.stats import t, shapiro\n",
    "import scipy.stats as st\n",
    "from sklearn.linear_model import LinearRegression\n",
    "from sklearn.linear_model import LogisticRegression\n",
    "from sklearn.metrics import classification_report, accuracy_score\n",
    "from datetime import datetime\n",
    "from sklearn.model_selection import train_test_split\n",
    "from sklearn.cluster import KMeans\n",
    "from sklearn.decomposition import PCA\n",
    "\n",
    "from sklearn.preprocessing import StandardScaler\n",
    "import numpy as np\n",
    "import seaborn as sns"
   ]
  },
  {
   "cell_type": "markdown",
   "id": "bf031d92",
   "metadata": {},
   "source": [
    "<div style=\"border: 5px solid RGB(300,200,0);\" >\n",
    "<h3 style=\"margin: auto; padding: 20px; color: RGB(300,200,0); \">1.2 - Chargement des fichiers CSV </h3>\n",
    "</div>"
   ]
  },
  {
   "cell_type": "code",
   "execution_count": null,
   "id": "b5421335",
   "metadata": {},
   "outputs": [],
   "source": []
  },
  {
   "cell_type": "code",
   "execution_count": null,
   "id": "a44ea021",
   "metadata": {},
   "outputs": [],
   "source": []
  },
  {
   "cell_type": "markdown",
   "id": "5ef91d5a",
   "metadata": {},
   "source": [
    "<div style=\"border: 5px solid RGB(300,200,20);\" >\n",
    "<h3 style=\"margin: auto; padding: 20px; color: RGB(300,200,20); \">1.3 - Nettoyage des données </h3>\n",
    "</div>"
   ]
  },
  {
   "cell_type": "code",
   "execution_count": null,
   "id": "6a438bf7",
   "metadata": {},
   "outputs": [],
   "source": [
    "\n"
   ]
  },
  {
   "cell_type": "code",
   "execution_count": null,
   "id": "df75b742",
   "metadata": {},
   "outputs": [],
   "source": []
  },
  {
   "cell_type": "markdown",
   "id": "1ad5c51d",
   "metadata": {},
   "source": []
  },
  {
   "cell_type": "markdown",
   "id": "484beea0",
   "metadata": {},
   "source": [
    "## **<span style=\"color:red\">a  <span>**"
   ]
  },
  {
   "cell_type": "code",
   "execution_count": null,
   "id": "718cadcf",
   "metadata": {},
   "outputs": [],
   "source": []
  },
  {
   "cell_type": "markdown",
   "id": "48d1fbde",
   "metadata": {},
   "source": [
    "<div style=\"background-color: RGB(300,200,20);\" >\n",
    "<h2 style=\"margin: auto; padding: 20px; color:#fff; \">Etape 2 - Analyse exploratoire des fichiers</h2>\n",
    "</div>"
   ]
  },
  {
   "cell_type": "code",
   "execution_count": null,
   "id": "e00dbdbf",
   "metadata": {},
   "outputs": [],
   "source": []
  },
  {
   "cell_type": "code",
   "execution_count": null,
   "id": "e614173c",
   "metadata": {},
   "outputs": [],
   "source": []
  },
  {
   "cell_type": "code",
   "execution_count": null,
   "id": "06190d67",
   "metadata": {},
   "outputs": [],
   "source": []
  },
  {
   "cell_type": "code",
   "execution_count": null,
   "id": "a0b996f5",
   "metadata": {},
   "outputs": [],
   "source": []
  },
  {
   "cell_type": "code",
   "execution_count": null,
   "id": "8d2bd1b9",
   "metadata": {},
   "outputs": [],
   "source": []
  }
 ],
 "metadata": {
  "kernelspec": {
   "display_name": "Python 3 (ipykernel)",
   "language": "python",
   "name": "python3"
  },
  "language_info": {
   "codemirror_mode": {
    "name": "ipython",
    "version": 3
   },
   "file_extension": ".py",
   "mimetype": "text/x-python",
   "name": "python",
   "nbconvert_exporter": "python",
   "pygments_lexer": "ipython3",
   "version": "3.9.13"
  }
 },
 "nbformat": 4,
 "nbformat_minor": 5
}
