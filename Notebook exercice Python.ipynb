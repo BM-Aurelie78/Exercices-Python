{
 "cells": [
  {
   "cell_type": "markdown",
   "id": "cd3e7da2",
   "metadata": {},
   "source": [
    "<div style=\" background-color: RGB(300,200,10);\" >\n",
    "<h1 style=\"margin: auto; padding: 20px 0; color:#fff; text-align: center\"> Notebook exercice \n",
    "</h1>\n",
    "<h2 style=\"margin: auto; padding: 20px 0; color:#fff; text-align: center\">Python\n",
    "</h2>\n",
    "</div>"
   ]
  },
  {
   "cell_type": "markdown",
   "id": "bc091017",
   "metadata": {},
   "source": [
    "<div style=\"background-color: RGB(300,200,20) ; \">\n",
    "    <h2 style=\"margin: auto; padding: 20px; color:#fff; \"> PARTIE I : EXERCICES </a> \n",
    "</div>"
   ]
  },
  {
   "cell_type": "markdown",
   "id": "24b77f77",
   "metadata": {},
   "source": [
    "  ### **Exercice d'application n°1**"
   ]
  },
  {
   "cell_type": "markdown",
   "id": "1ecd58d3",
   "metadata": {},
   "source": [
    "**Écrivez un programme qui demande à l'utilisateur d'entrer un nombre et affiche s'il est positif ou négatif.**"
   ]
  },
  {
   "cell_type": "code",
   "execution_count": 44,
   "id": "21da74e0",
   "metadata": {},
   "outputs": [
    {
     "name": "stdout",
     "output_type": "stream",
     "text": [
      "Entrez un nombre2\n",
      "2 est un nombre positif\n"
     ]
    }
   ],
   "source": [
    "Nombre=int(input(\"Entrez un nombre\"))\n",
    "if Nombre<0:\n",
    "    print(f\"{Nombre} est un nombre négatif\")\n",
    "else:\n",
    "    print(f\"{Nombre} est un nombre positif\")\n"
   ]
  },
  {
   "cell_type": "markdown",
   "id": "a82ec56e",
   "metadata": {},
   "source": [
    "  ### **Exercice d'application n°2**"
   ]
  },
  {
   "cell_type": "markdown",
   "id": "3ad79faf",
   "metadata": {},
   "source": [
    "**Créez un programme qui demande l'âge de l'utilisateur et affiche s'il est majeur ou mineur.**"
   ]
  },
  {
   "cell_type": "code",
   "execution_count": 9,
   "id": "1c52c71c",
   "metadata": {},
   "outputs": [
    {
     "name": "stdout",
     "output_type": "stream",
     "text": [
      "Entrez votre âge\n",
      "8\n",
      "Vous êtes mineur\n"
     ]
    }
   ],
   "source": [
    "print(\"Entrez votre âge\")\n",
    "age=int(input())\n",
    "if age>=18:\n",
    "    print(\"Vous êtes majeur\")\n",
    "else: \n",
    "    print(\"Vous êtes mineur\")"
   ]
  },
  {
   "cell_type": "markdown",
   "id": "236b1c4c",
   "metadata": {},
   "source": [
    "### **Exercice d'application n°3**"
   ]
  },
  {
   "cell_type": "markdown",
   "id": "eb6c087b",
   "metadata": {},
   "source": [
    "**Écrivez un script qui demande à l'utilisateur d'entrer un nombre entre 1 et 7 et affiche le jour de la semaine correspondant.**"
   ]
  },
  {
   "cell_type": "code",
   "execution_count": 12,
   "id": "0736786f",
   "metadata": {},
   "outputs": [
    {
     "name": "stdout",
     "output_type": "stream",
     "text": [
      "Entrez un nombre entre 1 et 7\n",
      "8\n",
      "Erreur, veuillez entrer que des nombre entre 1 et 7\n"
     ]
    }
   ],
   "source": [
    "print(\"Entrez un nombre entre 1 et 7\")\n",
    "Nombre=int(input())\n",
    "if Nombre==1:\n",
    "    print(Nombre,\"est Lundi\")\n",
    "elif Nombre==2:\n",
    "    print(Nombre,\"est Mardi\")\n",
    "elif Nombre==3:\n",
    "    print(Nombre,\"est Mercredi\")\n",
    "elif Nombre==4:\n",
    "    print(Nombre, \"est Jeudi\")\n",
    "elif Nombre==5:\n",
    "    print(Nombre,\"est Vendredi\")\n",
    "elif Nombre==6:\n",
    "    print(Nombre,\"est Samedi\")\n",
    "elif Nombre==7:\n",
    "    print(Nombre, \"est Dimanche\")\n",
    "else:\n",
    "    print(\"Erreur, veuillez entrer que des nombre entre 1 et 7\")"
   ]
  },
  {
   "cell_type": "code",
   "execution_count": 11,
   "id": "c529df2f",
   "metadata": {},
   "outputs": [
    {
     "name": "stdout",
     "output_type": "stream",
     "text": [
      "Entrez un nombre entre 1 et 7 : 5\n",
      "Le jour correspondant est : Vendredi\n"
     ]
    }
   ],
   "source": [
    "#Correction\n",
    "jours = [\"Lundi\", \"Mardi\", \"Mercredi\", \"Jeudi\", \"Vendredi\", \"Samedi\", \"Dimanche\"]\n",
    "numero = int(input(\"Entrez un nombre entre 1 et 7 : \"))\n",
    "if 1 <= numero <= 7:\n",
    "    print(f\"Le jour correspondant est : {jours[numero-1]}\")\n",
    "else:\n",
    "    print(\"Nombre invalide\")"
   ]
  },
  {
   "cell_type": "markdown",
   "id": "cb5c8778",
   "metadata": {},
   "source": [
    "### **Exercice d'application n°4**"
   ]
  },
  {
   "cell_type": "markdown",
   "id": "959fd37b",
   "metadata": {},
   "source": [
    "**Créez une boucle qui affiche les nombres de 1 à 10.** "
   ]
  },
  {
   "cell_type": "code",
   "execution_count": 17,
   "id": "0f652e85",
   "metadata": {},
   "outputs": [
    {
     "name": "stdout",
     "output_type": "stream",
     "text": [
      "1\n",
      "2\n",
      "3\n",
      "4\n",
      "5\n",
      "6\n",
      "7\n",
      "8\n",
      "9\n",
      "10\n"
     ]
    }
   ],
   "source": [
    "for i in range (1,11):\n",
    "    print(i)"
   ]
  },
  {
   "cell_type": "markdown",
   "id": "d359e2a1",
   "metadata": {},
   "source": [
    "### **Exercice d'application n°5**"
   ]
  },
  {
   "cell_type": "markdown",
   "id": "b00107f1",
   "metadata": {},
   "source": [
    "**Écrivez un programme qui calcule la somme des nombres de 1 à 100**"
   ]
  },
  {
   "cell_type": "code",
   "execution_count": 24,
   "id": "28d513be",
   "metadata": {},
   "outputs": [
    {
     "name": "stdout",
     "output_type": "stream",
     "text": [
      "La somme des nombres de 1 à 100 est de: 5050\n"
     ]
    }
   ],
   "source": [
    "#Correction\n",
    "somme= sum(range(1,101))\n",
    "print(f\"La somme des nombres de 1 à 100 est de: {somme}\")"
   ]
  },
  {
   "cell_type": "markdown",
   "id": "05318687",
   "metadata": {},
   "source": [
    "**Créez une boucle qui affiche les nombres pairs de 0 à 20.**"
   ]
  },
  {
   "cell_type": "code",
   "execution_count": 27,
   "id": "6927e26e",
   "metadata": {},
   "outputs": [
    {
     "name": "stdout",
     "output_type": "stream",
     "text": [
      "0\n",
      "2\n",
      "4\n",
      "6\n",
      "8\n",
      "10\n",
      "12\n",
      "14\n",
      "16\n",
      "18\n",
      "20\n"
     ]
    }
   ],
   "source": [
    "for j in range (0,21,2):\n",
    "    print(j)\n",
    "    "
   ]
  },
  {
   "cell_type": "markdown",
   "id": "e794e084",
   "metadata": {},
   "source": [
    "**Écrivez un programme qui demande à l'utilisateur de deviner un nombre entre 1 et 100, avec des indices \"plus haut\" ou \"plus bas\".**"
   ]
  },
  {
   "cell_type": "code",
   "execution_count": 64,
   "id": "b9c140a2",
   "metadata": {},
   "outputs": [
    {
     "name": "stdout",
     "output_type": "stream",
     "text": [
      "Deviner un nombre entre 1 et 100: 52\n",
      "Plus haut\n",
      "Deviner un nombre entre 1 et 100: 60\n",
      "Plus haut\n",
      "Deviner un nombre entre 1 et 100: 70\n",
      "Plus bas\n",
      "Deviner un nombre entre 1 et 100: 80\n",
      "Plus bas\n",
      "Deviner un nombre entre 1 et 100: 75\n",
      "Plus bas\n",
      "Deviner un nombre entre 1 et 100: 73\n",
      "Plus bas\n",
      "Deviner un nombre entre 1 et 100: 72\n",
      "Plus bas\n",
      "Deviner un nombre entre 1 et 100: 71\n",
      "Plus bas\n",
      "Deviner un nombre entre 1 et 100: 70\n",
      "Plus bas\n",
      "Deviner un nombre entre 1 et 100: 65\n",
      "Plus bas\n",
      "Deviner un nombre entre 1 et 100: 63\n",
      "Plus haut\n",
      "Deviner un nombre entre 1 et 100: 64\n",
      "Bingo,vous êtes trop fort\n"
     ]
    }
   ],
   "source": [
    "#Ma solution\n",
    "import random\n",
    "Nbre_mystere=random.randint(1,101)\n",
    "while Nbre!=Nbre_mystere:\n",
    "    Nbre=int(input(\"Deviner un nombre entre 1 et 100: \"))\n",
    "    if Nbre<Nbre_mystere:\n",
    "        print(\"Plus haut\")\n",
    "    elif Nbre>Nbre_mystere:\n",
    "        print(\"Plus bas\")\n",
    "    else:\n",
    "        print(\"Bingo,vous êtes trop fort\")\n",
    "        break\n",
    "    "
   ]
  },
  {
   "cell_type": "code",
   "execution_count": 77,
   "id": "5f7769c4",
   "metadata": {},
   "outputs": [
    {
     "name": "stdout",
     "output_type": "stream",
     "text": [
      "Deviner un nombre entre 1 et 100: 5\n",
      "Plus haut\n",
      "Deviner un nombre entre 1 et 100: 20\n",
      "Plus haut\n",
      "Deviner un nombre entre 1 et 100: 40\n",
      "Plus bas\n",
      "Deviner un nombre entre 1 et 100: 60\n",
      "Plus bas\n",
      "Deviner un nombre entre 1 et 100: 30\n",
      "Bingo,vous êtes trop fort\n"
     ]
    }
   ],
   "source": [
    "# Correction de ma solution (avec ChatGPT)\n",
    "\n",
    "#Import random\n",
    "import random\n",
    "Nbre_mystere=random.randint(1,101)\n",
    "\n",
    "#Initialisation\n",
    "Nbre=0\n",
    "\n",
    "while Nbre!=Nbre_mystere:\n",
    "    try: \n",
    "        Nbre=int(input(\"Deviner un nombre entre 1 et 100: \"))\n",
    "        if Nbre<Nbre_mystere:\n",
    "            print(\"Plus haut\")\n",
    "        elif Nbre>Nbre_mystere:\n",
    "            print(\"Plus bas\")\n",
    "        else:\n",
    "            print(\"Bingo,vous êtes trop fort\")\n",
    "            break\n",
    "    except ValueError:\n",
    "        print(\"Veuillez entrer un nombre valide.\")"
   ]
  },
  {
   "cell_type": "code",
   "execution_count": 81,
   "id": "b366febd",
   "metadata": {},
   "outputs": [
    {
     "name": "stdout",
     "output_type": "stream",
     "text": [
      "Deviner un nombre entre 1 et 100: 80\n",
      "Plus bas\n",
      "Deviner un nombre entre 1 et 100: 60\n",
      "Plus bas\n",
      "Deviner un nombre entre 1 et 100: 30\n",
      "Plus haut\n",
      "Deviner un nombre entre 1 et 100: 40\n",
      "Plus haut\n",
      "Deviner un nombre entre 1 et 100: 50\n",
      "Plus haut\n",
      "Deviner un nombre entre 1 et 100: 55\n",
      "Plus bas\n",
      "Deviner un nombre entre 1 et 100: 53\n",
      "Plus haut\n",
      "Deviner un nombre entre 1 et 100: 54\n",
      "Bingo, vous avez réussi après 8 tentatives\n"
     ]
    }
   ],
   "source": [
    "# Correction de ma solution et amélioration (avec ChatGPT)\n",
    "\n",
    "#Import random\n",
    "import random\n",
    "Nbre_mystere=random.randint(1,101)\n",
    "\n",
    "#Initialisation\n",
    "Nbre=0\n",
    "tentative=0\n",
    "while Nbre!=Nbre_mystere:\n",
    "    try: \n",
    "        Nbre=int(input(\"Deviner un nombre entre 1 et 100: \"))\n",
    "        tentative+=1\n",
    "        if Nbre<Nbre_mystere:\n",
    "            print(\"Plus haut\")\n",
    "        elif Nbre>Nbre_mystere:\n",
    "            print(\"Plus bas\")\n",
    "        else:\n",
    "            print(f\"Bingo, vous avez réussi après {tentative} tentatives\")\n",
    "            break\n",
    "    except ValueError:\n",
    "        print(\"Veuillez entrer un nombre valide.\")"
   ]
  },
  {
   "cell_type": "code",
   "execution_count": 82,
   "id": "3c73c4d6",
   "metadata": {},
   "outputs": [
    {
     "name": "stdout",
     "output_type": "stream",
     "text": [
      "Deviner un nombre entre 1 et 100: 58\n",
      "Plus bas\n",
      "Deviner un nombre entre 1 et 100: 40\n",
      "Plus bas\n",
      "Deviner un nombre entre 1 et 100: 25\n",
      "Plus bas\n",
      "Deviner un nombre entre 1 et 100: 15\n",
      "Bingo, vous êtes trop fort, vous avez réussi après 4 tentatives\n"
     ]
    }
   ],
   "source": [
    "\n",
    "#Import random\n",
    "import random\n",
    "Nbre_mystere=random.randint(1,101)\n",
    "\n",
    "#Initialisation\n",
    "Nbre=0\n",
    "tentative=0\n",
    "while Nbre!=Nbre_mystere:\n",
    "    try: \n",
    "        Nbre=int(input(\"Deviner un nombre entre 1 et 100: \"))\n",
    "        tentative+=1\n",
    "        if Nbre<Nbre_mystere:\n",
    "            print(\"Plus haut\")\n",
    "        elif Nbre>Nbre_mystere:\n",
    "            print(\"Plus bas\")\n",
    "        else:\n",
    "            if tentative<=5:\n",
    "                print(f\"Bingo, vous êtes trop fort, vous avez réussi après {tentative} tentatives\")\n",
    "            elif 5>tentative<=10:\n",
    "                print(f\"Bingo, pas mal, vous avez réussi après {tentative} tentatives\")\n",
    "            else:\n",
    "                print(f\"Bingo, vous avez réussi après {tentative} tentatives\")\n",
    "            break\n",
    "    except ValueError:\n",
    "        print(\"Veuillez entrer un nombre valide.\")"
   ]
  },
  {
   "cell_type": "code",
   "execution_count": 56,
   "id": "cf819bab",
   "metadata": {},
   "outputs": [
    {
     "name": "stdout",
     "output_type": "stream",
     "text": [
      "Devinez le nombre (entre 1 et 100) : 50\n",
      "Plus bas!\n",
      "Devinez le nombre (entre 1 et 100) : 12\n",
      "Plus bas!\n",
      "Devinez le nombre (entre 1 et 100) : 8\n",
      "Bravo! Vous avez trouvé le nombre 8!\n"
     ]
    }
   ],
   "source": [
    "#Autre solution\n",
    "import random\n",
    "\n",
    "nombre_secret = random.randint(1, 100)\n",
    "devine = 0\n",
    "\n",
    "while devine != nombre_secret:\n",
    "    devine = int(input(\"Devinez le nombre (entre 1 et 100) : \"))\n",
    "    if devine < nombre_secret:\n",
    "        print(\"Plus haut!\")\n",
    "    elif devine > nombre_secret:\n",
    "        print(\"Plus bas!\")\n",
    "\n",
    "print(f\"Bravo! Vous avez trouvé le nombre {nombre_secret}!\")\n",
    "    "
   ]
  },
  {
   "cell_type": "markdown",
   "id": "062e7939",
   "metadata": {},
   "source": [
    "**Créez un programme qui affiche la table de multiplication d'un nombre entré par l'utilisateur.***"
   ]
  },
  {
   "cell_type": "code",
   "execution_count": 41,
   "id": "d4b3689c",
   "metadata": {},
   "outputs": [
    {
     "name": "stdout",
     "output_type": "stream",
     "text": [
      "Entrez un nombre pour connaître sa table de multiplication5\n",
      "1x5 = 5\n",
      "2x5 = 10\n",
      "3x5 = 15\n",
      "4x5 = 20\n",
      "5x5 = 25\n",
      "6x5 = 30\n",
      "7x5 = 35\n",
      "8x5 = 40\n",
      "9x5 = 45\n",
      "10x5 = 50\n",
      "11x5 = 55\n",
      "12x5 = 60\n"
     ]
    }
   ],
   "source": [
    "nombre=int(input(\"Entrez un nombre pour connaître sa table de multiplication\"))\n",
    "\n",
    "# Initialisation\n",
    "Multiplication=0\n",
    "for i in range(1,13):\n",
    "    Multiplication=i*nombre\n",
    "    print(f\"{i}x{nombre} = {Multiplication}\")\n",
    "    "
   ]
  },
  {
   "cell_type": "markdown",
   "id": "d5cb78e4",
   "metadata": {},
   "source": [
    "**Écrivez un script qui détermine si un nombre entré par l'utilisateur est premier ou non.***"
   ]
  },
  {
   "cell_type": "code",
   "execution_count": 16,
   "id": "c36e1dcc",
   "metadata": {},
   "outputs": [
    {
     "ename": "NameError",
     "evalue": "name 'Nb_user' is not defined",
     "output_type": "error",
     "traceback": [
      "\u001b[1;31m---------------------------------------------------------------------------\u001b[0m",
      "\u001b[1;31mNameError\u001b[0m                                 Traceback (most recent call last)",
      "\u001b[1;32m~\\AppData\\Local\\Temp\\ipykernel_7224\\1473517362.py\u001b[0m in \u001b[0;36m<module>\u001b[1;34m\u001b[0m\n\u001b[0;32m      1\u001b[0m \u001b[1;32mimport\u001b[0m \u001b[0mmath\u001b[0m\u001b[1;33m\u001b[0m\u001b[1;33m\u001b[0m\u001b[0m\n\u001b[1;32m----> 2\u001b[1;33m \u001b[0mracine_carre\u001b[0m \u001b[1;33m=\u001b[0m \u001b[0mmath\u001b[0m\u001b[1;33m.\u001b[0m\u001b[0msqrt\u001b[0m\u001b[1;33m(\u001b[0m\u001b[0mNb_user\u001b[0m\u001b[1;33m)\u001b[0m\u001b[1;33m\u001b[0m\u001b[1;33m\u001b[0m\u001b[0m\n\u001b[0m\u001b[0;32m      3\u001b[0m \u001b[1;32mdef\u001b[0m \u001b[0mest_premier\u001b[0m\u001b[1;33m(\u001b[0m\u001b[0mNb_user\u001b[0m\u001b[1;33m)\u001b[0m\u001b[1;33m:\u001b[0m\u001b[1;33m\u001b[0m\u001b[1;33m\u001b[0m\u001b[0m\n\u001b[0;32m      4\u001b[0m     \u001b[1;31m# Les nombres inférieurs à 2 ne sont pas premiers\u001b[0m\u001b[1;33m\u001b[0m\u001b[1;33m\u001b[0m\u001b[0m\n\u001b[0;32m      5\u001b[0m     \u001b[1;32mif\u001b[0m \u001b[0mNb_user\u001b[0m \u001b[1;33m<\u001b[0m \u001b[1;36m2\u001b[0m\u001b[1;33m:\u001b[0m\u001b[1;33m\u001b[0m\u001b[1;33m\u001b[0m\u001b[0m\n",
      "\u001b[1;31mNameError\u001b[0m: name 'Nb_user' is not defined"
     ]
    }
   ],
   "source": [
    "import math\n",
    "racine_carre = math.sqrt(Nb_user)\n",
    "def est_premier(Nb_user):\n",
    "    # Les nombres inférieurs à 2 ne sont pas premiers\n",
    "    if Nb_user < 2:\n",
    "        return False\n",
    "    # Vérification des diviseurs possibles\n",
    "    for diviseur in range(2, int(racine_carre) + 1):\n",
    "        if Nb_user % diviseur == 0:\n",
    "            return False\n",
    "    return True\n",
    "\n",
    "# Demande à l'utilisateur d'entrer un nombre\n",
    "try:\n",
    "    Nb_user = int(input(\"Entrez un nombre entier : \"))\n",
    "    # Vérification si le nombre est premier\n",
    "    if est_premier(Nb_user):\n",
    "        print(f\"{Nb_user} est un nombre premier.\")\n",
    "    else:\n",
    "        print(f\"{Nb_user} n'est pas un nombre premier.\")\n",
    "except ValueError:\n",
    "    print(\"Veuillez entrer un nombre entier valide.\")"
   ]
  },
  {
   "cell_type": "markdown",
   "id": "7d13710a",
   "metadata": {},
   "source": [
    "**Créez une boucle qui affiche les 10 premiers termes de la suite de Fibonacci.**"
   ]
  },
  {
   "cell_type": "code",
   "execution_count": null,
   "id": "c8788903",
   "metadata": {},
   "outputs": [],
   "source": []
  },
  {
   "cell_type": "markdown",
   "id": "68ecfb8a",
   "metadata": {},
   "source": [
    "**Écrivez un programme qui convertit un nombre décimal en binaire.**"
   ]
  },
  {
   "cell_type": "code",
   "execution_count": 17,
   "id": "2e490d30",
   "metadata": {},
   "outputs": [
    {
     "name": "stdout",
     "output_type": "stream",
     "text": [
      "Entrer un nombre décimal pour le convertir en binaire\n",
      "28\n",
      "0b11100\n"
     ]
    }
   ],
   "source": [
    "Nombre_decimal=int(input(\"Entrer un nombre décimal pour le convertir en binaire\\n\"))\n",
    "Conv_binaire=bin(Nombre_decimal)\n",
    "print(Conv_binaire)"
   ]
  },
  {
   "cell_type": "markdown",
   "id": "adaa6b8b",
   "metadata": {},
   "source": [
    "**Créez un jeu de pierre-papier-ciseaux contre l'ordinateur**"
   ]
  },
  {
   "cell_type": "code",
   "execution_count": 5,
   "id": "98c66ad1",
   "metadata": {},
   "outputs": [
    {
     "name": "stdout",
     "output_type": "stream",
     "text": [
      "three\n"
     ]
    }
   ],
   "source": [
    "import random\n",
    "liste=['one', 'two','three']\n",
    "print(random.choice(liste))"
   ]
  },
  {
   "cell_type": "code",
   "execution_count": null,
   "id": "ee7cebd8",
   "metadata": {},
   "outputs": [],
   "source": [
    "\n"
   ]
  },
  {
   "cell_type": "markdown",
   "id": "9b783827",
   "metadata": {},
   "source": [
    "**Écrivez un programme qui trie une liste de nombres sans utiliser la fonction *sort()***"
   ]
  },
  {
   "cell_type": "code",
   "execution_count": null,
   "id": "7ca7317c",
   "metadata": {},
   "outputs": [],
   "source": []
  },
  {
   "cell_type": "markdown",
   "id": "d0cbcc12",
   "metadata": {},
   "source": [
    "**Créez un programme qui génère un motif de triangle avec des étoiles, dont la taille est déterminée par l'utilisateur**"
   ]
  },
  {
   "cell_type": "code",
   "execution_count": null,
   "id": "3c7ec496",
   "metadata": {},
   "outputs": [],
   "source": []
  },
  {
   "cell_type": "markdown",
   "id": "2f60633f",
   "metadata": {},
   "source": [
    "**Écrivez un script qui implémente le crible d'Ératosthène pour trouver tous les nombres premiers jusqu'à un nombre donné.** "
   ]
  },
  {
   "cell_type": "code",
   "execution_count": null,
   "id": "b7b463d7",
   "metadata": {},
   "outputs": [],
   "source": []
  },
  {
   "cell_type": "markdown",
   "id": "ae014a81",
   "metadata": {},
   "source": [
    "**Créez un programme qui simule un lanceur de dés, permettant à l'utilisateur de choisir le nombre de dés et le nombre de faces.**"
   ]
  },
  {
   "cell_type": "code",
   "execution_count": null,
   "id": "350e92d9",
   "metadata": {},
   "outputs": [],
   "source": []
  },
  {
   "cell_type": "markdown",
   "id": "4ff5667d",
   "metadata": {},
   "source": [
    "**Écrivez un programme qui implémente l'algorithme de recherche binaire dans une liste triée.**"
   ]
  },
  {
   "cell_type": "code",
   "execution_count": null,
   "id": "f5f76483",
   "metadata": {},
   "outputs": [],
   "source": []
  },
  {
   "cell_type": "markdown",
   "id": "fc909844",
   "metadata": {},
   "source": [
    "**Créez un jeu de devinette de mot où l'utilisateur doit deviner un mot lettre par lettre (style pendu).**"
   ]
  },
  {
   "cell_type": "code",
   "execution_count": null,
   "id": "ea741d8b",
   "metadata": {},
   "outputs": [],
   "source": []
  },
  {
   "cell_type": "markdown",
   "id": "efb043b5",
   "metadata": {},
   "source": [
    "**Écrivez un programme qui génère toutes les permutations possibles d'une chaîne de caractères donnée.** "
   ]
  },
  {
   "cell_type": "code",
   "execution_count": null,
   "id": "156ce055",
   "metadata": {},
   "outputs": [],
   "source": []
  },
  {
   "cell_type": "markdown",
   "id": "0f719ce6",
   "metadata": {},
   "source": [
    "**Créez un programme qui résout le problème des N-reines (placer N reines sur un échiquier NxN sans qu'elles se menacent).**"
   ]
  },
  {
   "cell_type": "code",
   "execution_count": null,
   "id": "99455c40",
   "metadata": {},
   "outputs": [],
   "source": []
  },
  {
   "cell_type": "code",
   "execution_count": null,
   "id": "3f45fa53",
   "metadata": {},
   "outputs": [],
   "source": []
  },
  {
   "cell_type": "code",
   "execution_count": null,
   "id": "13608572",
   "metadata": {},
   "outputs": [],
   "source": []
  },
  {
   "cell_type": "code",
   "execution_count": null,
   "id": "13f969ec",
   "metadata": {},
   "outputs": [],
   "source": []
  },
  {
   "cell_type": "code",
   "execution_count": null,
   "id": "c62ae63c",
   "metadata": {},
   "outputs": [],
   "source": []
  },
  {
   "cell_type": "code",
   "execution_count": null,
   "id": "0df86c32",
   "metadata": {},
   "outputs": [],
   "source": [
    "\n"
   ]
  },
  {
   "cell_type": "code",
   "execution_count": null,
   "id": "68eeffbc",
   "metadata": {},
   "outputs": [],
   "source": []
  },
  {
   "cell_type": "code",
   "execution_count": null,
   "id": "bd4bd59c",
   "metadata": {},
   "outputs": [],
   "source": []
  },
  {
   "cell_type": "code",
   "execution_count": null,
   "id": "ba2039c6",
   "metadata": {},
   "outputs": [],
   "source": []
  },
  {
   "cell_type": "code",
   "execution_count": null,
   "id": "8836cd01",
   "metadata": {},
   "outputs": [],
   "source": []
  },
  {
   "cell_type": "code",
   "execution_count": null,
   "id": "94202687",
   "metadata": {},
   "outputs": [],
   "source": []
  },
  {
   "cell_type": "code",
   "execution_count": null,
   "id": "4adae4c6",
   "metadata": {},
   "outputs": [],
   "source": []
  },
  {
   "cell_type": "code",
   "execution_count": null,
   "id": "61135a56",
   "metadata": {},
   "outputs": [],
   "source": []
  },
  {
   "cell_type": "code",
   "execution_count": null,
   "id": "108d8be7",
   "metadata": {},
   "outputs": [],
   "source": []
  },
  {
   "cell_type": "code",
   "execution_count": null,
   "id": "a6da8699",
   "metadata": {},
   "outputs": [],
   "source": []
  },
  {
   "cell_type": "code",
   "execution_count": null,
   "id": "ef561bd6",
   "metadata": {},
   "outputs": [],
   "source": []
  },
  {
   "cell_type": "code",
   "execution_count": null,
   "id": "f18bd3fb",
   "metadata": {},
   "outputs": [],
   "source": []
  },
  {
   "cell_type": "code",
   "execution_count": null,
   "id": "6ae9d565",
   "metadata": {},
   "outputs": [],
   "source": [
    "\n"
   ]
  },
  {
   "cell_type": "code",
   "execution_count": null,
   "id": "3057600e",
   "metadata": {},
   "outputs": [],
   "source": []
  },
  {
   "cell_type": "code",
   "execution_count": null,
   "id": "fa7347d6",
   "metadata": {},
   "outputs": [],
   "source": []
  },
  {
   "cell_type": "markdown",
   "id": "0162443c",
   "metadata": {},
   "source": [
    "<div style=\"background-color: RGB(300,200,20) ; \">\n",
    "<h2 style=\"margin: auto; padding: 20px; color:#fff; \"> Etape 1 - Importation des librairies et chargement des données</a> \n",
    "</div>"
   ]
  },
  {
   "cell_type": "markdown",
   "id": "7046d2fe",
   "metadata": {},
   "source": [
    "<div style=\"border: 5px solid RGB(300,200,20);\" >\n",
    "<h3 style=\"margin: auto; padding: 20px; color: RGB(300,200,20); \">1.2 - Importation des librairies </h3>\n",
    "</div>"
   ]
  },
  {
   "cell_type": "code",
   "execution_count": 2,
   "id": "dc8cee4f",
   "metadata": {},
   "outputs": [],
   "source": [
    "# Importation des librairies Pandas, Matplotlib et Numpy\n",
    "import pandas as pd\n",
    "import matplotlib.pyplot as plt\n",
    "\n",
    "import plotly.express as px\n",
    "import statsmodels.api as sm\n",
    "import statsmodels.formula.api as smf\n",
    "from scipy.stats import t, shapiro\n",
    "import scipy.stats as st\n",
    "from sklearn.linear_model import LinearRegression\n",
    "from sklearn.linear_model import LogisticRegression\n",
    "from sklearn.metrics import classification_report, accuracy_score\n",
    "from datetime import datetime\n",
    "from sklearn.model_selection import train_test_split\n",
    "from sklearn.cluster import KMeans\n",
    "from sklearn.decomposition import PCA\n",
    "\n",
    "from sklearn.preprocessing import StandardScaler\n",
    "import numpy as np\n",
    "import seaborn as sns"
   ]
  },
  {
   "cell_type": "markdown",
   "id": "bf031d92",
   "metadata": {},
   "source": [
    "<div style=\"border: 5px solid RGB(300,200,0);\" >\n",
    "<h3 style=\"margin: auto; padding: 20px; color: RGB(300,200,0); \">1.2 - Chargement des fichiers CSV </h3>\n",
    "</div>"
   ]
  },
  {
   "cell_type": "code",
   "execution_count": null,
   "id": "b5421335",
   "metadata": {},
   "outputs": [],
   "source": []
  },
  {
   "cell_type": "code",
   "execution_count": null,
   "id": "a44ea021",
   "metadata": {},
   "outputs": [],
   "source": []
  },
  {
   "cell_type": "markdown",
   "id": "5ef91d5a",
   "metadata": {},
   "source": [
    "<div style=\"border: 5px solid RGB(300,200,20);\" >\n",
    "<h3 style=\"margin: auto; padding: 20px; color: RGB(300,200,20); \">1.3 - Nettoyage des données </h3>\n",
    "</div>"
   ]
  },
  {
   "cell_type": "code",
   "execution_count": null,
   "id": "6a438bf7",
   "metadata": {},
   "outputs": [],
   "source": [
    "\n"
   ]
  },
  {
   "cell_type": "code",
   "execution_count": null,
   "id": "df75b742",
   "metadata": {},
   "outputs": [],
   "source": []
  },
  {
   "cell_type": "code",
   "execution_count": null,
   "id": "82c89060",
   "metadata": {},
   "outputs": [],
   "source": []
  },
  {
   "cell_type": "markdown",
   "id": "484beea0",
   "metadata": {},
   "source": [
    "## **<span style=\"color:red\">a  <span>**"
   ]
  },
  {
   "cell_type": "code",
   "execution_count": null,
   "id": "718cadcf",
   "metadata": {},
   "outputs": [],
   "source": []
  },
  {
   "cell_type": "markdown",
   "id": "48d1fbde",
   "metadata": {},
   "source": [
    "<div style=\"background-color: RGB(300,200,20);\" >\n",
    "<h2 style=\"margin: auto; padding: 20px; color:#fff; \">Etape 2 - Analyse exploratoire des fichiers</h2>\n",
    "</div>"
   ]
  },
  {
   "cell_type": "code",
   "execution_count": null,
   "id": "e00dbdbf",
   "metadata": {},
   "outputs": [],
   "source": []
  },
  {
   "cell_type": "code",
   "execution_count": null,
   "id": "e614173c",
   "metadata": {},
   "outputs": [],
   "source": []
  },
  {
   "cell_type": "code",
   "execution_count": null,
   "id": "06190d67",
   "metadata": {},
   "outputs": [],
   "source": []
  },
  {
   "cell_type": "code",
   "execution_count": null,
   "id": "a0b996f5",
   "metadata": {},
   "outputs": [],
   "source": []
  },
  {
   "cell_type": "code",
   "execution_count": null,
   "id": "8d2bd1b9",
   "metadata": {},
   "outputs": [],
   "source": []
  }
 ],
 "metadata": {
  "kernelspec": {
   "display_name": "Python 3 (ipykernel)",
   "language": "python",
   "name": "python3"
  },
  "language_info": {
   "codemirror_mode": {
    "name": "ipython",
    "version": 3
   },
   "file_extension": ".py",
   "mimetype": "text/x-python",
   "name": "python",
   "nbconvert_exporter": "python",
   "pygments_lexer": "ipython3",
   "version": "3.9.13"
  }
 },
 "nbformat": 4,
 "nbformat_minor": 5
}
