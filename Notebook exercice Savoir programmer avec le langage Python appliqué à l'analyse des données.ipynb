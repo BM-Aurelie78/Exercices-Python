{
 "cells": [
  {
   "cell_type": "markdown",
   "id": "cd3e7da2",
   "metadata": {},
   "source": [
    "<div style=\" background-color: RGB(300,200,10);\" >\n",
    "<h1 style=\"margin: auto; padding: 20px 0; color:#fff; text-align: center\"> Notebook exercice \n",
    "</h1>\n",
    "<h2 style=\"margin: auto; padding: 20px 0; color:#fff; text-align: center\">Programmer avec le langage Python appliqué à l'analyse des données \n",
    "</h2>\n",
    "</div>"
   ]
  },
  {
   "cell_type": "markdown",
   "id": "bc091017",
   "metadata": {},
   "source": [
    "<div style=\"background-color: RGB(300,200,20) ; \">\n",
    "    <h2 style=\"margin: auto; padding: 20px; color:#fff; \"> PARTIE I : EXERCICES </a> \n",
    "</div>"
   ]
  },
  {
   "cell_type": "markdown",
   "id": "24b77f77",
   "metadata": {},
   "source": [
    "  ### **Exercice d'application n°1.1**"
   ]
  },
  {
   "cell_type": "markdown",
   "id": "1ecd58d3",
   "metadata": {},
   "source": [
    "**-> Calculez 5 puissance 3**"
   ]
  },
  {
   "cell_type": "code",
   "execution_count": 17,
   "id": "21da74e0",
   "metadata": {},
   "outputs": [
    {
     "data": {
      "text/plain": [
       "125"
      ]
     },
     "execution_count": 17,
     "metadata": {},
     "output_type": "execute_result"
    }
   ],
   "source": [
    "5**3"
   ]
  },
  {
   "cell_type": "markdown",
   "id": "3ad79faf",
   "metadata": {},
   "source": [
    "**-> Ensuite soustraire 100 du résultat**"
   ]
  },
  {
   "cell_type": "code",
   "execution_count": 18,
   "id": "1c52c71c",
   "metadata": {},
   "outputs": [
    {
     "data": {
      "text/plain": [
       "25"
      ]
     },
     "execution_count": 18,
     "metadata": {},
     "output_type": "execute_result"
    }
   ],
   "source": [
    "5**3-100"
   ]
  },
  {
   "cell_type": "markdown",
   "id": "eb6c087b",
   "metadata": {},
   "source": [
    "**-> Et enfin divisez le résultat par 5.**"
   ]
  },
  {
   "cell_type": "code",
   "execution_count": 19,
   "id": "0736786f",
   "metadata": {},
   "outputs": [
    {
     "data": {
      "text/plain": [
       "5.0"
      ]
     },
     "execution_count": 19,
     "metadata": {},
     "output_type": "execute_result"
    }
   ],
   "source": [
    "(5**3-100)/5"
   ]
  },
  {
   "cell_type": "markdown",
   "id": "a82ec56e",
   "metadata": {},
   "source": [
    "  ### **Exercice d'application n°1.2**"
   ]
  },
  {
   "cell_type": "markdown",
   "id": "959fd37b",
   "metadata": {},
   "source": [
    "**-> Affecte 19 à la variable *z*. Quel est le type de la variable *z* ?** "
   ]
  },
  {
   "cell_type": "code",
   "execution_count": 41,
   "id": "924283cd",
   "metadata": {},
   "outputs": [
    {
     "data": {
      "text/plain": [
       "int"
      ]
     },
     "execution_count": 41,
     "metadata": {},
     "output_type": "execute_result"
    }
   ],
   "source": [
    "z=19\n",
    "type(z)"
   ]
  },
  {
   "cell_type": "markdown",
   "id": "b00107f1",
   "metadata": {},
   "source": [
    "**Affecte *z+1* à la variable *z*.**"
   ]
  },
  {
   "cell_type": "code",
   "execution_count": 42,
   "id": "b366febd",
   "metadata": {},
   "outputs": [
    {
     "name": "stdout",
     "output_type": "stream",
     "text": [
      "20\n"
     ]
    }
   ],
   "source": [
    "z=z+1\n",
    "print(z)"
   ]
  },
  {
   "cell_type": "markdown",
   "id": "05318687",
   "metadata": {},
   "source": [
    "**Affecte *z* divisé par 5 à la variable *z*.**"
   ]
  },
  {
   "cell_type": "code",
   "execution_count": 43,
   "id": "cf819bab",
   "metadata": {},
   "outputs": [
    {
     "name": "stdout",
     "output_type": "stream",
     "text": [
      "4.0\n"
     ]
    }
   ],
   "source": [
    "z = z/5\n",
    "print(z)"
   ]
  },
  {
   "cell_type": "markdown",
   "id": "e794e084",
   "metadata": {},
   "source": [
    "**Affecte *z* puissance 2 à la variable *z*.**"
   ]
  },
  {
   "cell_type": "code",
   "execution_count": 44,
   "id": "2e490d30",
   "metadata": {},
   "outputs": [
    {
     "name": "stdout",
     "output_type": "stream",
     "text": [
      "16.0\n"
     ]
    }
   ],
   "source": [
    "z=z**2\n",
    "print(z)"
   ]
  },
  {
   "cell_type": "code",
   "execution_count": 45,
   "id": "7ca7317c",
   "metadata": {},
   "outputs": [
    {
     "data": {
      "text/plain": [
       "float"
      ]
     },
     "execution_count": 45,
     "metadata": {},
     "output_type": "execute_result"
    }
   ],
   "source": [
    "type(z)"
   ]
  },
  {
   "cell_type": "markdown",
   "id": "236b1c4c",
   "metadata": {},
   "source": [
    "### **Exercice d'application 1.3**"
   ]
  },
  {
   "cell_type": "markdown",
   "id": "062e7939",
   "metadata": {},
   "source": [
    "**Affectez votre prénom à la variable *first_name***"
   ]
  },
  {
   "cell_type": "code",
   "execution_count": null,
   "id": "d4b3689c",
   "metadata": {},
   "outputs": [],
   "source": [
    "#Prénom\n",
    "first_name='Aurélie'"
   ]
  },
  {
   "cell_type": "markdown",
   "id": "d5cb78e4",
   "metadata": {},
   "source": [
    "**Affectez votre nom à la variable *last_name***"
   ]
  },
  {
   "cell_type": "code",
   "execution_count": null,
   "id": "3c7ec496",
   "metadata": {},
   "outputs": [],
   "source": [
    "#Nom de famille\n",
    "last_name= 'Bellony-montout'"
   ]
  },
  {
   "cell_type": "markdown",
   "id": "7d13710a",
   "metadata": {},
   "source": [
    "**Mettez à jour la variable *last_name* en mettant en toutes lettres en Majuscule. Utilisez la méthode \".upper()\"**"
   ]
  },
  {
   "cell_type": "code",
   "execution_count": null,
   "id": "b7b463d7",
   "metadata": {},
   "outputs": [],
   "source": [
    "#Nom de famille à jour\n",
    "last_name=last_name.upper()"
   ]
  },
  {
   "cell_type": "markdown",
   "id": "68ecfb8a",
   "metadata": {},
   "source": [
    "**Concaténez les variables *first_name* et *last_name* et affectezz le résultat à la variable name en prenant bien soin de créer un espace entre le prénom et le nom.**"
   ]
  },
  {
   "cell_type": "code",
   "execution_count": null,
   "id": "350e92d9",
   "metadata": {},
   "outputs": [],
   "source": [
    "name=first_name+' '+last_name"
   ]
  },
  {
   "cell_type": "markdown",
   "id": "adaa6b8b",
   "metadata": {},
   "source": [
    "**Quel est le nombre de caractère de la variable name?**"
   ]
  },
  {
   "cell_type": "code",
   "execution_count": 78,
   "id": "f5f76483",
   "metadata": {},
   "outputs": [
    {
     "data": {
      "text/plain": [
       "23"
      ]
     },
     "execution_count": 78,
     "metadata": {},
     "output_type": "execute_result"
    }
   ],
   "source": [
    "len(name)"
   ]
  },
  {
   "cell_type": "markdown",
   "id": "9b783827",
   "metadata": {},
   "source": [
    "**Combien de fois y a t-il le caractère \"o\" dans la variable *name*? Utilisez la méthode : \".count()\"**"
   ]
  },
  {
   "cell_type": "code",
   "execution_count": 79,
   "id": "ea741d8b",
   "metadata": {},
   "outputs": [
    {
     "data": {
      "text/plain": [
       "3"
      ]
     },
     "execution_count": 79,
     "metadata": {},
     "output_type": "execute_result"
    }
   ],
   "source": [
    "name.count('O')"
   ]
  },
  {
   "cell_type": "markdown",
   "id": "d0cbcc12",
   "metadata": {},
   "source": [
    "**Affectez votre ville de résidence à la variable *city*.**"
   ]
  },
  {
   "cell_type": "code",
   "execution_count": 80,
   "id": "99455c40",
   "metadata": {},
   "outputs": [],
   "source": [
    "city=\"Mantes-La-Jolie\""
   ]
  },
  {
   "cell_type": "markdown",
   "id": "2f60633f",
   "metadata": {},
   "source": [
    "**Avec une seule fonction *print()*, affichez à l'écran.** "
   ]
  },
  {
   "cell_type": "code",
   "execution_count": 91,
   "id": "3f45fa53",
   "metadata": {},
   "outputs": [
    {
     "name": "stdout",
     "output_type": "stream",
     "text": [
      "Je m'apelle Aurélie BELLONY-MONTOUT \n",
      "Je vis à Mantes-La-Jolie\n"
     ]
    }
   ],
   "source": [
    "print(\"Je m'apelle\", name, \"\\nJe vis à\", city)"
   ]
  },
  {
   "cell_type": "markdown",
   "id": "cb5c8778",
   "metadata": {},
   "source": [
    "### **Exercice d'application 1.4**"
   ]
  },
  {
   "cell_type": "markdown",
   "id": "ae014a81",
   "metadata": {},
   "source": [
    "**Demandez le prénom d'utilisateur et stocker sa réponse dans la variable *first_Name*.**"
   ]
  },
  {
   "cell_type": "code",
   "execution_count": 95,
   "id": "156ce055",
   "metadata": {},
   "outputs": [
    {
     "name": "stdout",
     "output_type": "stream",
     "text": [
      "Quel est votre prénom?\n",
      "Aurélie\n"
     ]
    }
   ],
   "source": [
    "#Demander le prénom\n",
    "print(\"Quel est votre prénom?\")\n",
    "first_Name = input()"
   ]
  },
  {
   "cell_type": "markdown",
   "id": "4ff5667d",
   "metadata": {},
   "source": [
    "**Demander le nom de l'utilisateur et stocker sa réponse dans la variable *last_Name*.**"
   ]
  },
  {
   "cell_type": "code",
   "execution_count": 96,
   "id": "13608572",
   "metadata": {},
   "outputs": [
    {
     "name": "stdout",
     "output_type": "stream",
     "text": [
      "Quel est votre nom?\n",
      "BELLONY-MONTOUT\n"
     ]
    }
   ],
   "source": [
    "#Demander le prénom\n",
    "print(\"Quel est votre nom?\")\n",
    "last_Name= input()"
   ]
  },
  {
   "cell_type": "markdown",
   "id": "fc909844",
   "metadata": {},
   "source": [
    "**Avec une seule fonction print, affichez à l'écran: exemple \"Vous vous appelez Steph Ryan\"**"
   ]
  },
  {
   "cell_type": "code",
   "execution_count": 97,
   "id": "13f969ec",
   "metadata": {},
   "outputs": [
    {
     "name": "stdout",
     "output_type": "stream",
     "text": [
      "Vous vous appelez  Aurélie BELLONY-MONTOUT\n"
     ]
    }
   ],
   "source": [
    "print(\"Vous vous appelez \", first_Name+\" \"+last_Name)"
   ]
  },
  {
   "cell_type": "markdown",
   "id": "efb043b5",
   "metadata": {},
   "source": [
    "**Demander l'âge de l'utilisateur et stocker sa réponse dans la variable *Age*. Exemple: 30** "
   ]
  },
  {
   "cell_type": "code",
   "execution_count": 99,
   "id": "c62ae63c",
   "metadata": {},
   "outputs": [
    {
     "name": "stdout",
     "output_type": "stream",
     "text": [
      "Quel âge avez-vous?\n",
      "31\n"
     ]
    }
   ],
   "source": [
    "#Demander l'âge\n",
    "print(\"Quel âge avez-vous?\")\n",
    "Age=int(input())"
   ]
  },
  {
   "cell_type": "markdown",
   "id": "0f719ce6",
   "metadata": {},
   "source": [
    "**Avec une seule fonction \"print ()\", affichez à l'écran, Exemple: \"Vous avez 30 ans donc vous êtes né(e) en 1990.\" L'année de naissance doit concorder avec l'âge**"
   ]
  },
  {
   "cell_type": "code",
   "execution_count": 100,
   "id": "0df86c32",
   "metadata": {},
   "outputs": [
    {
     "name": "stdout",
     "output_type": "stream",
     "text": [
      "Vous avez  31 ans donc vous êtes né(e) en  1993\n"
     ]
    }
   ],
   "source": [
    "from datetime import datetime\n",
    "birth_year= datetime.now().year - Age\n",
    "print(\"Vous avez \", Age,\"ans donc vous êtes né(e) en \", birth_year )"
   ]
  },
  {
   "cell_type": "markdown",
   "id": "d359e2a1",
   "metadata": {},
   "source": [
    "### **Exercice d'application 1.5**"
   ]
  },
  {
   "cell_type": "code",
   "execution_count": 116,
   "id": "68eeffbc",
   "metadata": {},
   "outputs": [],
   "source": [
    "#Variable City\n",
    "City= \"San Francisco\""
   ]
  },
  {
   "cell_type": "code",
   "execution_count": 103,
   "id": "bd4bd59c",
   "metadata": {},
   "outputs": [
    {
     "name": "stdout",
     "output_type": "stream",
     "text": [
      "San\n",
      "Francis\n"
     ]
    }
   ],
   "source": [
    "#Récupérer les mots \"San\" et \"Francis\"\n",
    "print(City[0:3])\n",
    "print(City[4:11])"
   ]
  },
  {
   "cell_type": "code",
   "execution_count": 120,
   "id": "2edb2478",
   "metadata": {},
   "outputs": [
    {
     "name": "stdout",
     "output_type": "stream",
     "text": [
      "Voici les 4 premiers éléments isco\n",
      "Voici les 4 derniers éléments San \n"
     ]
    }
   ],
   "source": [
    "# 4 premiers éléments et les 4 derniers éléments de San Francisco\"\n",
    "\n",
    "#Chercher la longueur du mot City\n",
    "City2=len(City)\n",
    "print(\"Voici les 4 premiers éléments\", City[City2-4:])\n",
    "print(\"Voici les 4 derniers éléments\", City[:4-City2])"
   ]
  },
  {
   "cell_type": "code",
   "execution_count": null,
   "id": "0ede345d",
   "metadata": {},
   "outputs": [],
   "source": []
  },
  {
   "cell_type": "code",
   "execution_count": null,
   "id": "30d4bece",
   "metadata": {},
   "outputs": [],
   "source": []
  },
  {
   "cell_type": "markdown",
   "id": "0162443c",
   "metadata": {},
   "source": [
    "<div style=\"background-color: RGB(300,200,20) ; \">\n",
    "<h2 style=\"margin: auto; padding: 20px; color:#fff; \"> Etape 1 - Importation des librairies et chargement des données</a> \n",
    "</div>"
   ]
  },
  {
   "cell_type": "markdown",
   "id": "7046d2fe",
   "metadata": {},
   "source": [
    "<div style=\"border: 5px solid RGB(300,200,20);\" >\n",
    "<h3 style=\"margin: auto; padding: 20px; color: RGB(300,200,20); \">1.2 - Importation des librairies </h3>\n",
    "</div>"
   ]
  },
  {
   "cell_type": "code",
   "execution_count": 2,
   "id": "dc8cee4f",
   "metadata": {},
   "outputs": [],
   "source": [
    "# Importation des librairies Pandas, Matplotlib et Numpy\n",
    "import pandas as pd\n",
    "import matplotlib.pyplot as plt\n",
    "\n",
    "import plotly.express as px\n",
    "import statsmodels.api as sm\n",
    "import statsmodels.formula.api as smf\n",
    "from scipy.stats import t, shapiro\n",
    "import scipy.stats as st\n",
    "from sklearn.linear_model import LinearRegression\n",
    "from sklearn.linear_model import LogisticRegression\n",
    "from sklearn.metrics import classification_report, accuracy_score\n",
    "from datetime import datetime\n",
    "from sklearn.model_selection import train_test_split\n",
    "from sklearn.cluster import KMeans\n",
    "from sklearn.decomposition import PCA\n",
    "\n",
    "from sklearn.preprocessing import StandardScaler\n",
    "import numpy as np\n",
    "import seaborn as sns"
   ]
  },
  {
   "cell_type": "markdown",
   "id": "bf031d92",
   "metadata": {},
   "source": [
    "<div style=\"border: 5px solid RGB(300,200,0);\" >\n",
    "<h3 style=\"margin: auto; padding: 20px; color: RGB(300,200,0); \">1.2 - Chargement des fichiers CSV </h3>\n",
    "</div>"
   ]
  },
  {
   "cell_type": "code",
   "execution_count": null,
   "id": "b5421335",
   "metadata": {},
   "outputs": [],
   "source": []
  },
  {
   "cell_type": "code",
   "execution_count": null,
   "id": "a44ea021",
   "metadata": {},
   "outputs": [],
   "source": []
  },
  {
   "cell_type": "markdown",
   "id": "5ef91d5a",
   "metadata": {},
   "source": [
    "<div style=\"border: 5px solid RGB(300,200,20);\" >\n",
    "<h3 style=\"margin: auto; padding: 20px; color: RGB(300,200,20); \">1.3 - Nettoyage des données </h3>\n",
    "</div>"
   ]
  },
  {
   "cell_type": "code",
   "execution_count": null,
   "id": "6a438bf7",
   "metadata": {},
   "outputs": [],
   "source": [
    "\n"
   ]
  },
  {
   "cell_type": "code",
   "execution_count": null,
   "id": "df75b742",
   "metadata": {},
   "outputs": [],
   "source": []
  },
  {
   "cell_type": "markdown",
   "id": "1ad5c51d",
   "metadata": {},
   "source": []
  },
  {
   "cell_type": "markdown",
   "id": "484beea0",
   "metadata": {},
   "source": [
    "## **<span style=\"color:red\"> Analyse du 2ème trimestre <span>**"
   ]
  },
  {
   "cell_type": "code",
   "execution_count": null,
   "id": "718cadcf",
   "metadata": {},
   "outputs": [],
   "source": []
  },
  {
   "cell_type": "markdown",
   "id": "48d1fbde",
   "metadata": {},
   "source": [
    "<div style=\"background-color: RGB(300,200,20);\" >\n",
    "<h2 style=\"margin: auto; padding: 20px; color:#fff; \">Etape 2 - Analyse exploratoire des fichiers</h2>\n",
    "</div>"
   ]
  },
  {
   "cell_type": "code",
   "execution_count": null,
   "id": "e00dbdbf",
   "metadata": {},
   "outputs": [],
   "source": []
  },
  {
   "cell_type": "code",
   "execution_count": null,
   "id": "e614173c",
   "metadata": {},
   "outputs": [],
   "source": []
  },
  {
   "cell_type": "code",
   "execution_count": null,
   "id": "06190d67",
   "metadata": {},
   "outputs": [],
   "source": []
  },
  {
   "cell_type": "code",
   "execution_count": null,
   "id": "a0b996f5",
   "metadata": {},
   "outputs": [],
   "source": []
  },
  {
   "cell_type": "code",
   "execution_count": null,
   "id": "8d2bd1b9",
   "metadata": {},
   "outputs": [],
   "source": []
  }
 ],
 "metadata": {
  "kernelspec": {
   "display_name": "Python 3 (ipykernel)",
   "language": "python",
   "name": "python3"
  },
  "language_info": {
   "codemirror_mode": {
    "name": "ipython",
    "version": 3
   },
   "file_extension": ".py",
   "mimetype": "text/x-python",
   "name": "python",
   "nbconvert_exporter": "python",
   "pygments_lexer": "ipython3",
   "version": "3.9.13"
  }
 },
 "nbformat": 4,
 "nbformat_minor": 5
}
